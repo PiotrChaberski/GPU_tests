{
 "cells": [
  {
   "cell_type": "markdown",
   "metadata": {
    "colab_type": "text",
    "id": "vzGsmOEfd3ct"
   },
   "source": [
    "# Testing local GPU vs. Colab GPUs performance using Resnet18 classifier on CIFAR-100 dataset with PyTorch\n",
    "\n",
    "\n"
   ]
  },
  {
   "cell_type": "code",
   "execution_count": null,
   "metadata": {
    "colab": {},
    "colab_type": "code",
    "id": "8p_DOhcKZbfL"
   },
   "outputs": [],
   "source": [
    "import torch\n",
    "from torch import nn, optim\n",
    "from torchvision import transforms, models, datasets\n",
    "import matplotlib.pyplot as plt\n",
    "from time import time\n",
    "from datetime import datetime\n",
    "import numpy as np\n",
    "import pandas as pd\n",
    "import re\n",
    "import os"
   ]
  },
  {
   "cell_type": "code",
   "execution_count": null,
   "metadata": {
    "colab": {},
    "colab_type": "code",
    "id": "3hLcNIqkWeQ5"
   },
   "outputs": [],
   "source": [
    "# Settings and parameters\n",
    "\n",
    "# Runtime settings\n",
    "local_runtime = False    # local runtime with CUDA on Win10\n",
    "use_gpu = True\n",
    "gdrive_mounted = False\n",
    "\n",
    "# Try to use CUDA only if available\n",
    "gpu_selected_and_available = use_gpu & torch.cuda.is_available()\n",
    "\n",
    "# Experiment parameters\n",
    "batch_size = 64\n",
    "learning_rate = 1e-3\n",
    "num_epochs = 10\n",
    "selected_criterion = nn.CrossEntropyLoss\n",
    "selected_optimizer = optim.SGD"
   ]
  },
  {
   "cell_type": "code",
   "execution_count": null,
   "metadata": {
    "colab": {
     "base_uri": "https://localhost:8080/",
     "height": 323
    },
    "colab_type": "code",
    "executionInfo": {
     "elapsed": 7221,
     "status": "ok",
     "timestamp": 1584614256516,
     "user": {
      "displayName": "Piotr Chaberski",
      "photoUrl": "",
      "userId": "02798827690844129152"
     },
     "user_tz": -60
    },
    "id": "ALwRoJAfWdtt",
    "outputId": "b396fae0-bd4d-4e9e-8b24-feb1b7950fbc"
   },
   "outputs": [],
   "source": [
    "# Print backend info\n",
    "\n",
    "print('Backend info:')\n",
    "\n",
    "if local_runtime:\n",
    "    if gpu_selected_and_available:\n",
    "        !\"C:\\\\Program Files\\\\NVIDIA Corporation\\\\NVSMI\\\\nvidia-smi.exe\"\n",
    "    else:\n",
    "        !wmic cpu get caption, deviceid, name, numberofcores, maxclockspeed, status\n",
    "else:\n",
    "    if gpu_selected_and_available:\n",
    "        !nvidia-smi\n",
    "    else:\n",
    "        !cat /proc/cpuinfo"
   ]
  },
  {
   "cell_type": "code",
   "execution_count": null,
   "metadata": {
    "colab": {},
    "colab_type": "code",
    "id": "GfVmzWKKWCuK"
   },
   "outputs": [],
   "source": [
    "# Directory settings - restart runtime if runtime settings changed!\n",
    "\n",
    "if not local_runtime:\n",
    "    if gdrive_mounted:\n",
    "        work_dir = '/content/drive/My Drive/GPU_tests/Resnet_GPU_tests'\n",
    "    else:\n",
    "        work_dir = '/content/GAN_GPU_tests'\n",
    "else:\n",
    "    work_dir = 'C://OtherProjects//GPU_tests//Resnet_GPU_tests'\n",
    "os.makedirs(work_dir, exist_ok=True)\n",
    "os.chdir(work_dir)\n",
    "\n",
    "if gpu_selected_and_available:\n",
    "    if local_runtime:\n",
    "        device_name = !\"C:\\\\Program Files\\\\NVIDIA Corporation\\\\NVSMI\\\\nvidia-smi.exe\" --query-gpu=name --format=csv,noheader\n",
    "        device_name = device_name[0]\n",
    "    else:\n",
    "        device_name = !nvidia-smi --query-gpu=name --format=csv,noheader\n",
    "        device_name = device_name[0]\n",
    "else:\n",
    "    if local_runtime:\n",
    "        device_name = 'Local_CPU'\n",
    "    else:\n",
    "        device_name = 'Colab_CPU'\n",
    "\n",
    "data_path = os.path.join(os.getcwd(), 'data')\n",
    "save_dir = os.path.join(os.getcwd(), 'results',\n",
    "                        re.sub(' ', '_', device_name) + '_' +\\\n",
    "                        re.sub('-| |:', '', str(datetime.now()).split('.')[0]))\n",
    "os.makedirs(save_dir, exist_ok=True)"
   ]
  },
  {
   "cell_type": "code",
   "execution_count": null,
   "metadata": {
    "colab": {
     "base_uri": "https://localhost:8080/",
     "height": 1000,
     "referenced_widgets": [
      "7e5c6011aa084e539602f5fc20309d3d",
      "0c582d6e4ae54d7a9021af00609ded4e",
      "17555ac498004881bb771a63bc6a192d",
      "a85892832c8546debdd903a94e104a7d",
      "e3cd06f496dd49ad9f4ce750e2ac1753",
      "eb41092ce77341ac817405142cee3c5b",
      "bb0fc9dee78047fe8fcd606be3d6e284",
      "173b615af96e478487dadb4ef2ef2c3f"
     ]
    },
    "colab_type": "code",
    "executionInfo": {
     "elapsed": 5054,
     "status": "ok",
     "timestamp": 1584614276576,
     "user": {
      "displayName": "Piotr Chaberski",
      "photoUrl": "",
      "userId": "02798827690844129152"
     },
     "user_tz": -60
    },
    "id": "hsqEqcenieQ_",
    "outputId": "f557f891-30b5-4d68-e770-f1fb43495a1c"
   },
   "outputs": [],
   "source": [
    "# Load PyTorch implementation of Resnet18\n",
    "\n",
    "model = models.resnet18(pretrained=True)\n",
    "model"
   ]
  },
  {
   "cell_type": "code",
   "execution_count": null,
   "metadata": {
    "colab": {
     "base_uri": "https://localhost:8080/",
     "height": 1000
    },
    "colab_type": "code",
    "executionInfo": {
     "elapsed": 13134,
     "status": "ok",
     "timestamp": 1584614284671,
     "user": {
      "displayName": "Piotr Chaberski",
      "photoUrl": "",
      "userId": "02798827690844129152"
     },
     "user_tz": -60
    },
    "id": "uGxvRy83ivUD",
    "outputId": "47b132ab-2e25-4453-e52a-f87b1d5677a7"
   },
   "outputs": [],
   "source": [
    "# Adapt last layer for 100 classes instead of 1000\n",
    "\n",
    "model.fc = nn.Linear(in_features=512, out_features=100, bias=True)\n",
    "\n",
    "if gpu_selected_and_available:\n",
    "    model.cuda()\n",
    "    \n",
    "model"
   ]
  },
  {
   "cell_type": "code",
   "execution_count": null,
   "metadata": {
    "colab": {},
    "colab_type": "code",
    "id": "zQVp6TvJliJB"
   },
   "outputs": [],
   "source": [
    "# Define data transformations\n",
    "\n",
    "trs = transforms.Compose([  \n",
    "    transforms.Resize(260),\n",
    "    transforms.CenterCrop(224),\n",
    "    transforms.ToTensor(),\n",
    "    transforms.Normalize(mean=[0.485, 0.456, 0.406], std=[0.229, 0.224, 0.225])\n",
    "    ])"
   ]
  },
  {
   "cell_type": "code",
   "execution_count": null,
   "metadata": {
    "colab": {
     "base_uri": "https://localhost:8080/",
     "height": 51
    },
    "colab_type": "code",
    "executionInfo": {
     "elapsed": 20347,
     "status": "ok",
     "timestamp": 1584614291909,
     "user": {
      "displayName": "Piotr Chaberski",
      "photoUrl": "",
      "userId": "02798827690844129152"
     },
     "user_tz": -60
    },
    "id": "5dWnuLH6k7y2",
    "outputId": "0b04d33e-e0db-4b72-fd04-9d16ab144b34"
   },
   "outputs": [],
   "source": [
    "# Load and transform training and validation datasets\n",
    "\n",
    "train_dataset = datasets.CIFAR100(data_path, train=True,\n",
    "                                  transform=trs, download=True)\n",
    "valid_dataset = datasets.CIFAR100(data_path, train=False,\n",
    "                                  transform=trs, download=True)"
   ]
  },
  {
   "cell_type": "code",
   "execution_count": null,
   "metadata": {
    "colab": {},
    "colab_type": "code",
    "id": "y9sSjCPrlriV"
   },
   "outputs": [],
   "source": [
    "# Create data loaders\n",
    "\n",
    "train_data_gen = torch.utils.data.DataLoader(train_dataset, batch_size,\n",
    "                                             num_workers=1, pin_memory=False)\n",
    "valid_data_gen = torch.utils.data.DataLoader(valid_dataset, batch_size,\n",
    "                                             num_workers=1, pin_memory=False)\n",
    "\n",
    "dataloaders = {'train': train_data_gen,\n",
    "               'valid': valid_data_gen}\n",
    "\n",
    "dataset_sizes = {'train': len(train_data_gen.dataset),\n",
    "                 'valid': len(valid_data_gen.dataset)}"
   ]
  },
  {
   "cell_type": "code",
   "execution_count": null,
   "metadata": {
    "colab": {},
    "colab_type": "code",
    "id": "XX53OkKikEqP"
   },
   "outputs": [],
   "source": [
    "# Loss function and optimizer\n",
    "\n",
    "criterion = selected_criterion()\n",
    "optimizer = selected_optimizer(model.parameters(), lr=learning_rate)"
   ]
  },
  {
   "cell_type": "code",
   "execution_count": null,
   "metadata": {
    "colab": {},
    "colab_type": "code",
    "id": "kFTweDg7ndBT"
   },
   "outputs": [],
   "source": [
    "# Training procedure\n",
    "\n",
    "def train_model(model, criterion, optimizer, num_epochs=1):\n",
    "\n",
    "    best_model_weigths = model.state_dict()\n",
    "    best_acc = 0.0\n",
    "\n",
    "    stats = {'Epoch': [],\n",
    "             'Epoch_time': [],\n",
    "             'Epoch_train_loss': [],\n",
    "             'Epoch_valid_loss': [],\n",
    "             'Epoch_train_accuracy': [],\n",
    "             'Epoch_valid_accuracy': []}\n",
    "\n",
    "    for epoch in range(num_epochs):\n",
    "        print('Epoch {}/{}'.format(epoch + 1, num_epochs))\n",
    "        print('-' * 10)\n",
    "\n",
    "        t0 = time()\n",
    "\n",
    "        for phase in ['train', 'valid']:\n",
    "            if phase == 'train':\n",
    "                model.train(True)\n",
    "            else:\n",
    "                model.train(False)\n",
    "\n",
    "            running_loss = 0.0\n",
    "            running_corrects = 0\n",
    "\n",
    "            # Iterate over data\n",
    "            for data in dataloaders[phase]:\n",
    "                inputs, labels = data\n",
    "\n",
    "                if next(model.parameters()).is_cuda:\n",
    "                    inputs = inputs.cuda()\n",
    "                    labels = labels.cuda()\n",
    "\n",
    "                # Zero the parameter gradients\n",
    "                optimizer.zero_grad()\n",
    "                \n",
    "                # Forward pass\n",
    "                outputs = model(inputs)\n",
    "                _, preds = torch.max(outputs.data, 1)\n",
    "                loss = criterion(outputs, labels)\n",
    "\n",
    "                # Backward pass + optimize only if in training phase\n",
    "                if phase == 'train':\n",
    "                    loss.backward()\n",
    "                    optimizer.step()\n",
    "\n",
    "                # Record statistics\n",
    "                running_loss += loss.detach().item()\n",
    "                running_corrects += torch.sum(preds == labels.data).detach().item()\n",
    "\n",
    "            \n",
    "            epoch_loss = running_loss / dataset_sizes[phase]\n",
    "            epoch_acc = running_corrects / dataset_sizes[phase]\n",
    "            if phase == 'train':\n",
    "                stats['Epoch_train_loss'].append(epoch_loss)\n",
    "                stats['Epoch_train_accuracy'].append(epoch_acc)\n",
    "                print(f'Training loss: {epoch_loss:.4f}\\n'\n",
    "                      f'Training accuracy: {epoch_acc:.4f}')\n",
    "            else:\n",
    "                stats['Epoch_valid_loss'].append(epoch_loss)\n",
    "                stats['Epoch_valid_accuracy'].append(epoch_acc)\n",
    "                print(f'Validation loss: {epoch_loss:.4f}\\n'\n",
    "                      f'Validation accuracy: {epoch_acc:.4f}')\n",
    "\n",
    "            # Deep copy the model\n",
    "            if phase == 'valid' and epoch_acc > best_acc:\n",
    "                best_acc = epoch_acc\n",
    "                best_model_weigths = model.state_dict()\n",
    "        \n",
    "        stats['Epoch'].append(epoch + 1)\n",
    "        epoch_time = time() - t0\n",
    "        stats['Epoch_time'].append(epoch_time)\n",
    "        print(f'Epoch time: {epoch_time:.1f} secs')\n",
    "        print()\n",
    "\n",
    "    total_time = sum(stats['Epoch_time'])\n",
    "    print('Training complete in {:.0f}m {:.0f}s'.format(\n",
    "           total_time // 60, total_time % 60))\n",
    "    print(f'Best validation accuracy: {best_acc:.4f}')\n",
    "\n",
    "    # Load best model weights\n",
    "    model.load_state_dict(best_model_weigths)\n",
    "    return model, stats"
   ]
  },
  {
   "cell_type": "code",
   "execution_count": null,
   "metadata": {
    "colab": {
     "base_uri": "https://localhost:8080/",
     "height": 1000
    },
    "colab_type": "code",
    "executionInfo": {
     "elapsed": 1385744,
     "status": "ok",
     "timestamp": 1584617577189,
     "user": {
      "displayName": "Piotr Chaberski",
      "photoUrl": "",
      "userId": "02798827690844129152"
     },
     "user_tz": -60
    },
    "id": "yequ9GOjoSG0",
    "outputId": "dfb478d7-ca49-4866-c516-1028786c2cba"
   },
   "outputs": [],
   "source": [
    "# Run training\n",
    "\n",
    "model, stats = train_model(model, criterion, optimizer, num_epochs)"
   ]
  },
  {
   "cell_type": "code",
   "execution_count": null,
   "metadata": {
    "colab": {},
    "colab_type": "code",
    "id": "a85cLstJ9CWq"
   },
   "outputs": [],
   "source": [
    "# Save stats\n",
    "stats_df = pd.DataFrame(stats)\n",
    "stats_df.to_csv(os.path.join(save_dir, 'stats.csv'), index=False)"
   ]
  },
  {
   "cell_type": "code",
   "execution_count": null,
   "metadata": {
    "colab": {
     "base_uri": "https://localhost:8080/",
     "height": 281
    },
    "colab_type": "code",
    "executionInfo": {
     "elapsed": 682,
     "status": "ok",
     "timestamp": 1584617857155,
     "user": {
      "displayName": "Piotr Chaberski",
      "photoUrl": "",
      "userId": "02798827690844129152"
     },
     "user_tz": -60
    },
    "id": "NyKND7Ue6e0E",
    "outputId": "0915ed6e-3795-485e-9ef0-b37327b12cfd"
   },
   "outputs": [],
   "source": [
    "# Print and save epoch losses plot\n",
    "plt.plot(stats['Epoch'], stats['Epoch_train_loss'])\n",
    "plt.plot(stats['Epoch'], stats['Epoch_valid_loss'])\n",
    "plt.title('Epoch losses')\n",
    "plt.legend(['train_loss', 'valid_loss'])\n",
    "plt.savefig(os.path.join(save_dir, 'epoch_losses.png'))"
   ]
  },
  {
   "cell_type": "code",
   "execution_count": null,
   "metadata": {
    "colab": {
     "base_uri": "https://localhost:8080/",
     "height": 281
    },
    "colab_type": "code",
    "executionInfo": {
     "elapsed": 27,
     "status": "ok",
     "timestamp": 1584617857156,
     "user": {
      "displayName": "Piotr Chaberski",
      "photoUrl": "",
      "userId": "02798827690844129152"
     },
     "user_tz": -60
    },
    "id": "UBfMuOUe7tNT",
    "outputId": "a6a5ca9e-b294-44d7-c71e-7112255e168c"
   },
   "outputs": [],
   "source": [
    "# Print and save epoch accuracy plot\n",
    "plt.plot(stats['Epoch'], stats['Epoch_train_accuracy'])\n",
    "plt.plot(stats['Epoch'], stats['Epoch_valid_accuracy'])\n",
    "plt.title('Epoch accuracy')\n",
    "plt.legend(['train_acc', 'valid_acc'])\n",
    "plt.savefig(os.path.join(save_dir, 'epoch_accuracy.png'))"
   ]
  },
  {
   "cell_type": "code",
   "execution_count": null,
   "metadata": {
    "colab": {
     "base_uri": "https://localhost:8080/",
     "height": 281
    },
    "colab_type": "code",
    "executionInfo": {
     "elapsed": 9,
     "status": "ok",
     "timestamp": 1584617857157,
     "user": {
      "displayName": "Piotr Chaberski",
      "photoUrl": "",
      "userId": "02798827690844129152"
     },
     "user_tz": -60
    },
    "id": "fCfB-9jX8JcL",
    "outputId": "d2980913-7538-4962-ec82-3f9b591a61e0"
   },
   "outputs": [],
   "source": [
    "# Print and save epoch times plot\n",
    "plt.plot(stats['Epoch'], stats['Epoch_time'])\n",
    "plt.title('Epoch times')\n",
    "plt.savefig(os.path.join(save_dir, 'epoch_times.png'))"
   ]
  }
 ],
 "metadata": {
  "accelerator": "GPU",
  "colab": {
   "authorship_tag": "ABX9TyPWLxQQIfdVLnuc71gpfT3+",
   "collapsed_sections": [],
   "mount_file_id": "1hF60VTseUWL2tKRIcrw9iBNNLUOVgOFQ",
   "name": "resnet_cifar100_gpu_perf_test.ipynb",
   "provenance": [],
   "toc_visible": true
  },
  "kernelspec": {
   "display_name": "Python 3",
   "language": "python",
   "name": "python3"
  },
  "language_info": {
   "codemirror_mode": {
    "name": "ipython",
    "version": 3
   },
   "file_extension": ".py",
   "mimetype": "text/x-python",
   "name": "python",
   "nbconvert_exporter": "python",
   "pygments_lexer": "ipython3",
   "version": "3.8.2"
  },
  "widgets": {
   "application/vnd.jupyter.widget-state+json": {
    "0c582d6e4ae54d7a9021af00609ded4e": {
     "model_module": "@jupyter-widgets/base",
     "model_name": "LayoutModel",
     "state": {
      "_model_module": "@jupyter-widgets/base",
      "_model_module_version": "1.2.0",
      "_model_name": "LayoutModel",
      "_view_count": null,
      "_view_module": "@jupyter-widgets/base",
      "_view_module_version": "1.2.0",
      "_view_name": "LayoutView",
      "align_content": null,
      "align_items": null,
      "align_self": null,
      "border": null,
      "bottom": null,
      "display": null,
      "flex": null,
      "flex_flow": null,
      "grid_area": null,
      "grid_auto_columns": null,
      "grid_auto_flow": null,
      "grid_auto_rows": null,
      "grid_column": null,
      "grid_gap": null,
      "grid_row": null,
      "grid_template_areas": null,
      "grid_template_columns": null,
      "grid_template_rows": null,
      "height": null,
      "justify_content": null,
      "justify_items": null,
      "left": null,
      "margin": null,
      "max_height": null,
      "max_width": null,
      "min_height": null,
      "min_width": null,
      "object_fit": null,
      "object_position": null,
      "order": null,
      "overflow": null,
      "overflow_x": null,
      "overflow_y": null,
      "padding": null,
      "right": null,
      "top": null,
      "visibility": null,
      "width": null
     }
    },
    "173b615af96e478487dadb4ef2ef2c3f": {
     "model_module": "@jupyter-widgets/base",
     "model_name": "LayoutModel",
     "state": {
      "_model_module": "@jupyter-widgets/base",
      "_model_module_version": "1.2.0",
      "_model_name": "LayoutModel",
      "_view_count": null,
      "_view_module": "@jupyter-widgets/base",
      "_view_module_version": "1.2.0",
      "_view_name": "LayoutView",
      "align_content": null,
      "align_items": null,
      "align_self": null,
      "border": null,
      "bottom": null,
      "display": null,
      "flex": null,
      "flex_flow": null,
      "grid_area": null,
      "grid_auto_columns": null,
      "grid_auto_flow": null,
      "grid_auto_rows": null,
      "grid_column": null,
      "grid_gap": null,
      "grid_row": null,
      "grid_template_areas": null,
      "grid_template_columns": null,
      "grid_template_rows": null,
      "height": null,
      "justify_content": null,
      "justify_items": null,
      "left": null,
      "margin": null,
      "max_height": null,
      "max_width": null,
      "min_height": null,
      "min_width": null,
      "object_fit": null,
      "object_position": null,
      "order": null,
      "overflow": null,
      "overflow_x": null,
      "overflow_y": null,
      "padding": null,
      "right": null,
      "top": null,
      "visibility": null,
      "width": null
     }
    },
    "17555ac498004881bb771a63bc6a192d": {
     "model_module": "@jupyter-widgets/controls",
     "model_name": "IntProgressModel",
     "state": {
      "_dom_classes": [],
      "_model_module": "@jupyter-widgets/controls",
      "_model_module_version": "1.5.0",
      "_model_name": "IntProgressModel",
      "_view_count": null,
      "_view_module": "@jupyter-widgets/controls",
      "_view_module_version": "1.5.0",
      "_view_name": "ProgressView",
      "bar_style": "success",
      "description": "",
      "description_tooltip": null,
      "layout": "IPY_MODEL_eb41092ce77341ac817405142cee3c5b",
      "max": 46827520,
      "min": 0,
      "orientation": "horizontal",
      "style": "IPY_MODEL_e3cd06f496dd49ad9f4ce750e2ac1753",
      "value": 46827520
     }
    },
    "7e5c6011aa084e539602f5fc20309d3d": {
     "model_module": "@jupyter-widgets/controls",
     "model_name": "HBoxModel",
     "state": {
      "_dom_classes": [],
      "_model_module": "@jupyter-widgets/controls",
      "_model_module_version": "1.5.0",
      "_model_name": "HBoxModel",
      "_view_count": null,
      "_view_module": "@jupyter-widgets/controls",
      "_view_module_version": "1.5.0",
      "_view_name": "HBoxView",
      "box_style": "",
      "children": [
       "IPY_MODEL_17555ac498004881bb771a63bc6a192d",
       "IPY_MODEL_a85892832c8546debdd903a94e104a7d"
      ],
      "layout": "IPY_MODEL_0c582d6e4ae54d7a9021af00609ded4e"
     }
    },
    "a85892832c8546debdd903a94e104a7d": {
     "model_module": "@jupyter-widgets/controls",
     "model_name": "HTMLModel",
     "state": {
      "_dom_classes": [],
      "_model_module": "@jupyter-widgets/controls",
      "_model_module_version": "1.5.0",
      "_model_name": "HTMLModel",
      "_view_count": null,
      "_view_module": "@jupyter-widgets/controls",
      "_view_module_version": "1.5.0",
      "_view_name": "HTMLView",
      "description": "",
      "description_tooltip": null,
      "layout": "IPY_MODEL_173b615af96e478487dadb4ef2ef2c3f",
      "placeholder": "​",
      "style": "IPY_MODEL_bb0fc9dee78047fe8fcd606be3d6e284",
      "value": "100% 44.7M/44.7M [00:00&lt;00:00, 141MB/s]"
     }
    },
    "bb0fc9dee78047fe8fcd606be3d6e284": {
     "model_module": "@jupyter-widgets/controls",
     "model_name": "DescriptionStyleModel",
     "state": {
      "_model_module": "@jupyter-widgets/controls",
      "_model_module_version": "1.5.0",
      "_model_name": "DescriptionStyleModel",
      "_view_count": null,
      "_view_module": "@jupyter-widgets/base",
      "_view_module_version": "1.2.0",
      "_view_name": "StyleView",
      "description_width": ""
     }
    },
    "e3cd06f496dd49ad9f4ce750e2ac1753": {
     "model_module": "@jupyter-widgets/controls",
     "model_name": "ProgressStyleModel",
     "state": {
      "_model_module": "@jupyter-widgets/controls",
      "_model_module_version": "1.5.0",
      "_model_name": "ProgressStyleModel",
      "_view_count": null,
      "_view_module": "@jupyter-widgets/base",
      "_view_module_version": "1.2.0",
      "_view_name": "StyleView",
      "bar_color": null,
      "description_width": ""
     }
    },
    "eb41092ce77341ac817405142cee3c5b": {
     "model_module": "@jupyter-widgets/base",
     "model_name": "LayoutModel",
     "state": {
      "_model_module": "@jupyter-widgets/base",
      "_model_module_version": "1.2.0",
      "_model_name": "LayoutModel",
      "_view_count": null,
      "_view_module": "@jupyter-widgets/base",
      "_view_module_version": "1.2.0",
      "_view_name": "LayoutView",
      "align_content": null,
      "align_items": null,
      "align_self": null,
      "border": null,
      "bottom": null,
      "display": null,
      "flex": null,
      "flex_flow": null,
      "grid_area": null,
      "grid_auto_columns": null,
      "grid_auto_flow": null,
      "grid_auto_rows": null,
      "grid_column": null,
      "grid_gap": null,
      "grid_row": null,
      "grid_template_areas": null,
      "grid_template_columns": null,
      "grid_template_rows": null,
      "height": null,
      "justify_content": null,
      "justify_items": null,
      "left": null,
      "margin": null,
      "max_height": null,
      "max_width": null,
      "min_height": null,
      "min_width": null,
      "object_fit": null,
      "object_position": null,
      "order": null,
      "overflow": null,
      "overflow_x": null,
      "overflow_y": null,
      "padding": null,
      "right": null,
      "top": null,
      "visibility": null,
      "width": null
     }
    }
   }
  }
 },
 "nbformat": 4,
 "nbformat_minor": 1
}
