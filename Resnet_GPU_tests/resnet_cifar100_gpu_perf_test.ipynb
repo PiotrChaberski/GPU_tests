{
 "cells": [
  {
   "cell_type": "markdown",
   "metadata": {
    "colab_type": "text",
    "id": "vzGsmOEfd3ct"
   },
   "source": [
    "# Testing local GPU vs. Colab GPUs performance using Resnet18 classifier on CIFAR-100 dataset with PyTorch\n",
    "\n",
    "\n"
   ]
  },
  {
   "cell_type": "code",
   "execution_count": 1,
   "metadata": {
    "colab": {},
    "colab_type": "code",
    "id": "8p_DOhcKZbfL"
   },
   "outputs": [],
   "source": [
    "import torch\n",
    "from torch import nn, optim\n",
    "from torchvision import transforms, models, datasets\n",
    "import matplotlib.pyplot as plt\n",
    "from time import time\n",
    "from datetime import datetime\n",
    "import numpy as np\n",
    "import pandas as pd\n",
    "import re\n",
    "import os"
   ]
  },
  {
   "cell_type": "code",
   "execution_count": 2,
   "metadata": {
    "colab": {},
    "colab_type": "code",
    "id": "3hLcNIqkWeQ5"
   },
   "outputs": [],
   "source": [
    "# Settings and parameters\n",
    "\n",
    "# Runtime settings\n",
    "local_runtime = True    # local runtime with CUDA on Win10\n",
    "use_gpu = True\n",
    "gdrive_mounted = True\n",
    "\n",
    "# Try to use CUDA only if available\n",
    "gpu_selected_and_available = use_gpu & torch.cuda.is_available()\n",
    "\n",
    "# Experiment parameters\n",
    "batch_size = 64\n",
    "learning_rate = 1e-3\n",
    "num_epochs = 10\n",
    "selected_criterion = nn.CrossEntropyLoss\n",
    "selected_optimizer = optim.SGD"
   ]
  },
  {
   "cell_type": "code",
   "execution_count": 3,
   "metadata": {
    "colab": {},
    "colab_type": "code",
    "id": "ALwRoJAfWdtt"
   },
   "outputs": [
    {
     "name": "stdout",
     "output_type": "stream",
     "text": [
      "Backend info:\n"
     ]
    },
    {
     "name": "stderr",
     "output_type": "stream",
     "text": [
      "'nvidia-smi' is not recognized as an internal or external command,\n",
      "operable program or batch file.\n"
     ]
    }
   ],
   "source": [
    "# Print backend info\n",
    "\n",
    "print('Backend info:')\n",
    "\n",
    "if local_runtime:\n",
    "    if gpu_selected_and_available:\n",
    "        !nvidia-smi\n",
    "    else:\n",
    "        !wmic cpu get caption, deviceid, name, numberofcores, maxclockspeed, status\n",
    "else:\n",
    "    if gpu_selected_and_available:\n",
    "        !nvidia-smi\n",
    "    else:\n",
    "        !cat /proc/cpuinfo"
   ]
  },
  {
   "cell_type": "code",
   "execution_count": 4,
   "metadata": {
    "colab": {},
    "colab_type": "code",
    "id": "GfVmzWKKWCuK"
   },
   "outputs": [],
   "source": [
    "# Directory settings - restart runtime if runtime settings changed!\n",
    "\n",
    "if not local_runtime:\n",
    "    if gdrive_mounted:\n",
    "        work_dir = '/content/drive/My Drive/GPU_tests/Resnet_GPU_tests'\n",
    "    else:\n",
    "        work_dir = '/content/GAN_GPU_tests'\n",
    "else:\n",
    "    work_dir = 'C://Projects//GPU_tests//Resnet_GPU_tests'\n",
    "os.makedirs(work_dir, exist_ok=True)\n",
    "os.chdir(work_dir)\n",
    "\n",
    "if gpu_selected_and_available:\n",
    "    if local_runtime:\n",
    "        device_name = !nvidia-smi --query-gpu=name --format=csv,noheader\n",
    "        device_name = device_name[0]\n",
    "    else:\n",
    "        device_name = !nvidia-smi --query-gpu=name --format=csv,noheader\n",
    "        device_name = device_name[0]\n",
    "else:\n",
    "    if local_runtime:\n",
    "        device_name = 'Local_CPU'\n",
    "    else:\n",
    "        device_name = 'Colab_CPU'\n",
    "\n",
    "data_path = os.path.join(os.getcwd(), 'data')\n",
    "save_dir = os.path.join(os.getcwd(), 'results',\n",
    "                        re.sub(' ', '_', device_name) + '_' +\\\n",
    "                        re.sub('-| |:', '', str(datetime.now()).split('.')[0]))\n",
    "os.makedirs(save_dir, exist_ok=True)"
   ]
  },
  {
   "cell_type": "code",
   "execution_count": 5,
   "metadata": {
    "colab": {},
    "colab_type": "code",
    "id": "hsqEqcenieQ_"
   },
   "outputs": [
    {
     "name": "stderr",
     "output_type": "stream",
     "text": [
      "Downloading: \"https://download.pytorch.org/models/resnet18-5c106cde.pth\" to C:\\Users\\matowy/.cache\\torch\\checkpoints\\resnet18-5c106cde.pth\n"
     ]
    },
    {
     "data": {
      "application/vnd.jupyter.widget-view+json": {
       "model_id": "365489cc644c457e909ec6e4dc129d22",
       "version_major": 2,
       "version_minor": 0
      },
      "text/plain": [
       "HBox(children=(FloatProgress(value=0.0, max=46827520.0), HTML(value='')))"
      ]
     },
     "metadata": {},
     "output_type": "display_data"
    },
    {
     "name": "stdout",
     "output_type": "stream",
     "text": [
      "\n"
     ]
    },
    {
     "data": {
      "text/plain": [
       "ResNet(\n",
       "  (conv1): Conv2d(3, 64, kernel_size=(7, 7), stride=(2, 2), padding=(3, 3), bias=False)\n",
       "  (bn1): BatchNorm2d(64, eps=1e-05, momentum=0.1, affine=True, track_running_stats=True)\n",
       "  (relu): ReLU(inplace=True)\n",
       "  (maxpool): MaxPool2d(kernel_size=3, stride=2, padding=1, dilation=1, ceil_mode=False)\n",
       "  (layer1): Sequential(\n",
       "    (0): BasicBlock(\n",
       "      (conv1): Conv2d(64, 64, kernel_size=(3, 3), stride=(1, 1), padding=(1, 1), bias=False)\n",
       "      (bn1): BatchNorm2d(64, eps=1e-05, momentum=0.1, affine=True, track_running_stats=True)\n",
       "      (relu): ReLU(inplace=True)\n",
       "      (conv2): Conv2d(64, 64, kernel_size=(3, 3), stride=(1, 1), padding=(1, 1), bias=False)\n",
       "      (bn2): BatchNorm2d(64, eps=1e-05, momentum=0.1, affine=True, track_running_stats=True)\n",
       "    )\n",
       "    (1): BasicBlock(\n",
       "      (conv1): Conv2d(64, 64, kernel_size=(3, 3), stride=(1, 1), padding=(1, 1), bias=False)\n",
       "      (bn1): BatchNorm2d(64, eps=1e-05, momentum=0.1, affine=True, track_running_stats=True)\n",
       "      (relu): ReLU(inplace=True)\n",
       "      (conv2): Conv2d(64, 64, kernel_size=(3, 3), stride=(1, 1), padding=(1, 1), bias=False)\n",
       "      (bn2): BatchNorm2d(64, eps=1e-05, momentum=0.1, affine=True, track_running_stats=True)\n",
       "    )\n",
       "  )\n",
       "  (layer2): Sequential(\n",
       "    (0): BasicBlock(\n",
       "      (conv1): Conv2d(64, 128, kernel_size=(3, 3), stride=(2, 2), padding=(1, 1), bias=False)\n",
       "      (bn1): BatchNorm2d(128, eps=1e-05, momentum=0.1, affine=True, track_running_stats=True)\n",
       "      (relu): ReLU(inplace=True)\n",
       "      (conv2): Conv2d(128, 128, kernel_size=(3, 3), stride=(1, 1), padding=(1, 1), bias=False)\n",
       "      (bn2): BatchNorm2d(128, eps=1e-05, momentum=0.1, affine=True, track_running_stats=True)\n",
       "      (downsample): Sequential(\n",
       "        (0): Conv2d(64, 128, kernel_size=(1, 1), stride=(2, 2), bias=False)\n",
       "        (1): BatchNorm2d(128, eps=1e-05, momentum=0.1, affine=True, track_running_stats=True)\n",
       "      )\n",
       "    )\n",
       "    (1): BasicBlock(\n",
       "      (conv1): Conv2d(128, 128, kernel_size=(3, 3), stride=(1, 1), padding=(1, 1), bias=False)\n",
       "      (bn1): BatchNorm2d(128, eps=1e-05, momentum=0.1, affine=True, track_running_stats=True)\n",
       "      (relu): ReLU(inplace=True)\n",
       "      (conv2): Conv2d(128, 128, kernel_size=(3, 3), stride=(1, 1), padding=(1, 1), bias=False)\n",
       "      (bn2): BatchNorm2d(128, eps=1e-05, momentum=0.1, affine=True, track_running_stats=True)\n",
       "    )\n",
       "  )\n",
       "  (layer3): Sequential(\n",
       "    (0): BasicBlock(\n",
       "      (conv1): Conv2d(128, 256, kernel_size=(3, 3), stride=(2, 2), padding=(1, 1), bias=False)\n",
       "      (bn1): BatchNorm2d(256, eps=1e-05, momentum=0.1, affine=True, track_running_stats=True)\n",
       "      (relu): ReLU(inplace=True)\n",
       "      (conv2): Conv2d(256, 256, kernel_size=(3, 3), stride=(1, 1), padding=(1, 1), bias=False)\n",
       "      (bn2): BatchNorm2d(256, eps=1e-05, momentum=0.1, affine=True, track_running_stats=True)\n",
       "      (downsample): Sequential(\n",
       "        (0): Conv2d(128, 256, kernel_size=(1, 1), stride=(2, 2), bias=False)\n",
       "        (1): BatchNorm2d(256, eps=1e-05, momentum=0.1, affine=True, track_running_stats=True)\n",
       "      )\n",
       "    )\n",
       "    (1): BasicBlock(\n",
       "      (conv1): Conv2d(256, 256, kernel_size=(3, 3), stride=(1, 1), padding=(1, 1), bias=False)\n",
       "      (bn1): BatchNorm2d(256, eps=1e-05, momentum=0.1, affine=True, track_running_stats=True)\n",
       "      (relu): ReLU(inplace=True)\n",
       "      (conv2): Conv2d(256, 256, kernel_size=(3, 3), stride=(1, 1), padding=(1, 1), bias=False)\n",
       "      (bn2): BatchNorm2d(256, eps=1e-05, momentum=0.1, affine=True, track_running_stats=True)\n",
       "    )\n",
       "  )\n",
       "  (layer4): Sequential(\n",
       "    (0): BasicBlock(\n",
       "      (conv1): Conv2d(256, 512, kernel_size=(3, 3), stride=(2, 2), padding=(1, 1), bias=False)\n",
       "      (bn1): BatchNorm2d(512, eps=1e-05, momentum=0.1, affine=True, track_running_stats=True)\n",
       "      (relu): ReLU(inplace=True)\n",
       "      (conv2): Conv2d(512, 512, kernel_size=(3, 3), stride=(1, 1), padding=(1, 1), bias=False)\n",
       "      (bn2): BatchNorm2d(512, eps=1e-05, momentum=0.1, affine=True, track_running_stats=True)\n",
       "      (downsample): Sequential(\n",
       "        (0): Conv2d(256, 512, kernel_size=(1, 1), stride=(2, 2), bias=False)\n",
       "        (1): BatchNorm2d(512, eps=1e-05, momentum=0.1, affine=True, track_running_stats=True)\n",
       "      )\n",
       "    )\n",
       "    (1): BasicBlock(\n",
       "      (conv1): Conv2d(512, 512, kernel_size=(3, 3), stride=(1, 1), padding=(1, 1), bias=False)\n",
       "      (bn1): BatchNorm2d(512, eps=1e-05, momentum=0.1, affine=True, track_running_stats=True)\n",
       "      (relu): ReLU(inplace=True)\n",
       "      (conv2): Conv2d(512, 512, kernel_size=(3, 3), stride=(1, 1), padding=(1, 1), bias=False)\n",
       "      (bn2): BatchNorm2d(512, eps=1e-05, momentum=0.1, affine=True, track_running_stats=True)\n",
       "    )\n",
       "  )\n",
       "  (avgpool): AdaptiveAvgPool2d(output_size=(1, 1))\n",
       "  (fc): Linear(in_features=512, out_features=1000, bias=True)\n",
       ")"
      ]
     },
     "execution_count": 5,
     "metadata": {},
     "output_type": "execute_result"
    }
   ],
   "source": [
    "# Load PyTorch implementation of Resnet18\n",
    "\n",
    "model = models.resnet18(pretrained=True)\n",
    "model"
   ]
  },
  {
   "cell_type": "code",
   "execution_count": 6,
   "metadata": {
    "colab": {},
    "colab_type": "code",
    "id": "uGxvRy83ivUD"
   },
   "outputs": [
    {
     "data": {
      "text/plain": [
       "ResNet(\n",
       "  (conv1): Conv2d(3, 64, kernel_size=(7, 7), stride=(2, 2), padding=(3, 3), bias=False)\n",
       "  (bn1): BatchNorm2d(64, eps=1e-05, momentum=0.1, affine=True, track_running_stats=True)\n",
       "  (relu): ReLU(inplace=True)\n",
       "  (maxpool): MaxPool2d(kernel_size=3, stride=2, padding=1, dilation=1, ceil_mode=False)\n",
       "  (layer1): Sequential(\n",
       "    (0): BasicBlock(\n",
       "      (conv1): Conv2d(64, 64, kernel_size=(3, 3), stride=(1, 1), padding=(1, 1), bias=False)\n",
       "      (bn1): BatchNorm2d(64, eps=1e-05, momentum=0.1, affine=True, track_running_stats=True)\n",
       "      (relu): ReLU(inplace=True)\n",
       "      (conv2): Conv2d(64, 64, kernel_size=(3, 3), stride=(1, 1), padding=(1, 1), bias=False)\n",
       "      (bn2): BatchNorm2d(64, eps=1e-05, momentum=0.1, affine=True, track_running_stats=True)\n",
       "    )\n",
       "    (1): BasicBlock(\n",
       "      (conv1): Conv2d(64, 64, kernel_size=(3, 3), stride=(1, 1), padding=(1, 1), bias=False)\n",
       "      (bn1): BatchNorm2d(64, eps=1e-05, momentum=0.1, affine=True, track_running_stats=True)\n",
       "      (relu): ReLU(inplace=True)\n",
       "      (conv2): Conv2d(64, 64, kernel_size=(3, 3), stride=(1, 1), padding=(1, 1), bias=False)\n",
       "      (bn2): BatchNorm2d(64, eps=1e-05, momentum=0.1, affine=True, track_running_stats=True)\n",
       "    )\n",
       "  )\n",
       "  (layer2): Sequential(\n",
       "    (0): BasicBlock(\n",
       "      (conv1): Conv2d(64, 128, kernel_size=(3, 3), stride=(2, 2), padding=(1, 1), bias=False)\n",
       "      (bn1): BatchNorm2d(128, eps=1e-05, momentum=0.1, affine=True, track_running_stats=True)\n",
       "      (relu): ReLU(inplace=True)\n",
       "      (conv2): Conv2d(128, 128, kernel_size=(3, 3), stride=(1, 1), padding=(1, 1), bias=False)\n",
       "      (bn2): BatchNorm2d(128, eps=1e-05, momentum=0.1, affine=True, track_running_stats=True)\n",
       "      (downsample): Sequential(\n",
       "        (0): Conv2d(64, 128, kernel_size=(1, 1), stride=(2, 2), bias=False)\n",
       "        (1): BatchNorm2d(128, eps=1e-05, momentum=0.1, affine=True, track_running_stats=True)\n",
       "      )\n",
       "    )\n",
       "    (1): BasicBlock(\n",
       "      (conv1): Conv2d(128, 128, kernel_size=(3, 3), stride=(1, 1), padding=(1, 1), bias=False)\n",
       "      (bn1): BatchNorm2d(128, eps=1e-05, momentum=0.1, affine=True, track_running_stats=True)\n",
       "      (relu): ReLU(inplace=True)\n",
       "      (conv2): Conv2d(128, 128, kernel_size=(3, 3), stride=(1, 1), padding=(1, 1), bias=False)\n",
       "      (bn2): BatchNorm2d(128, eps=1e-05, momentum=0.1, affine=True, track_running_stats=True)\n",
       "    )\n",
       "  )\n",
       "  (layer3): Sequential(\n",
       "    (0): BasicBlock(\n",
       "      (conv1): Conv2d(128, 256, kernel_size=(3, 3), stride=(2, 2), padding=(1, 1), bias=False)\n",
       "      (bn1): BatchNorm2d(256, eps=1e-05, momentum=0.1, affine=True, track_running_stats=True)\n",
       "      (relu): ReLU(inplace=True)\n",
       "      (conv2): Conv2d(256, 256, kernel_size=(3, 3), stride=(1, 1), padding=(1, 1), bias=False)\n",
       "      (bn2): BatchNorm2d(256, eps=1e-05, momentum=0.1, affine=True, track_running_stats=True)\n",
       "      (downsample): Sequential(\n",
       "        (0): Conv2d(128, 256, kernel_size=(1, 1), stride=(2, 2), bias=False)\n",
       "        (1): BatchNorm2d(256, eps=1e-05, momentum=0.1, affine=True, track_running_stats=True)\n",
       "      )\n",
       "    )\n",
       "    (1): BasicBlock(\n",
       "      (conv1): Conv2d(256, 256, kernel_size=(3, 3), stride=(1, 1), padding=(1, 1), bias=False)\n",
       "      (bn1): BatchNorm2d(256, eps=1e-05, momentum=0.1, affine=True, track_running_stats=True)\n",
       "      (relu): ReLU(inplace=True)\n",
       "      (conv2): Conv2d(256, 256, kernel_size=(3, 3), stride=(1, 1), padding=(1, 1), bias=False)\n",
       "      (bn2): BatchNorm2d(256, eps=1e-05, momentum=0.1, affine=True, track_running_stats=True)\n",
       "    )\n",
       "  )\n",
       "  (layer4): Sequential(\n",
       "    (0): BasicBlock(\n",
       "      (conv1): Conv2d(256, 512, kernel_size=(3, 3), stride=(2, 2), padding=(1, 1), bias=False)\n",
       "      (bn1): BatchNorm2d(512, eps=1e-05, momentum=0.1, affine=True, track_running_stats=True)\n",
       "      (relu): ReLU(inplace=True)\n",
       "      (conv2): Conv2d(512, 512, kernel_size=(3, 3), stride=(1, 1), padding=(1, 1), bias=False)\n",
       "      (bn2): BatchNorm2d(512, eps=1e-05, momentum=0.1, affine=True, track_running_stats=True)\n",
       "      (downsample): Sequential(\n",
       "        (0): Conv2d(256, 512, kernel_size=(1, 1), stride=(2, 2), bias=False)\n",
       "        (1): BatchNorm2d(512, eps=1e-05, momentum=0.1, affine=True, track_running_stats=True)\n",
       "      )\n",
       "    )\n",
       "    (1): BasicBlock(\n",
       "      (conv1): Conv2d(512, 512, kernel_size=(3, 3), stride=(1, 1), padding=(1, 1), bias=False)\n",
       "      (bn1): BatchNorm2d(512, eps=1e-05, momentum=0.1, affine=True, track_running_stats=True)\n",
       "      (relu): ReLU(inplace=True)\n",
       "      (conv2): Conv2d(512, 512, kernel_size=(3, 3), stride=(1, 1), padding=(1, 1), bias=False)\n",
       "      (bn2): BatchNorm2d(512, eps=1e-05, momentum=0.1, affine=True, track_running_stats=True)\n",
       "    )\n",
       "  )\n",
       "  (avgpool): AdaptiveAvgPool2d(output_size=(1, 1))\n",
       "  (fc): Linear(in_features=512, out_features=100, bias=True)\n",
       ")"
      ]
     },
     "execution_count": 6,
     "metadata": {},
     "output_type": "execute_result"
    }
   ],
   "source": [
    "# Adapt last layer for 100 classes instead of 1000\n",
    "\n",
    "model.fc = nn.Linear(in_features=512, out_features=100, bias=True)\n",
    "\n",
    "if gpu_selected_and_available:\n",
    "    model.cuda()\n",
    "    \n",
    "model"
   ]
  },
  {
   "cell_type": "code",
   "execution_count": 7,
   "metadata": {
    "colab": {},
    "colab_type": "code",
    "id": "zQVp6TvJliJB"
   },
   "outputs": [],
   "source": [
    "# Define data transformations\n",
    "\n",
    "trs = transforms.Compose([  \n",
    "    transforms.Resize(260),\n",
    "    transforms.CenterCrop(224),\n",
    "    transforms.ToTensor(),\n",
    "    transforms.Normalize(mean=[0.485, 0.456, 0.406], std=[0.229, 0.224, 0.225])\n",
    "    ])"
   ]
  },
  {
   "cell_type": "code",
   "execution_count": 8,
   "metadata": {
    "colab": {},
    "colab_type": "code",
    "id": "5dWnuLH6k7y2"
   },
   "outputs": [
    {
     "name": "stdout",
     "output_type": "stream",
     "text": [
      "Downloading https://www.cs.toronto.edu/~kriz/cifar-100-python.tar.gz to C:\\Projects\\GPU_tests\\Resnet_GPU_tests\\data\\cifar-100-python.tar.gz\n"
     ]
    },
    {
     "data": {
      "application/vnd.jupyter.widget-view+json": {
       "model_id": "51d224f858aa45028976f061b1745754",
       "version_major": 2,
       "version_minor": 0
      },
      "text/plain": [
       "HBox(children=(FloatProgress(value=1.0, bar_style='info', max=1.0), HTML(value='')))"
      ]
     },
     "metadata": {},
     "output_type": "display_data"
    },
    {
     "name": "stdout",
     "output_type": "stream",
     "text": [
      "Extracting C:\\Projects\\GPU_tests\\Resnet_GPU_tests\\data\\cifar-100-python.tar.gz to C:\\Projects\\GPU_tests\\Resnet_GPU_tests\\data\n",
      "Files already downloaded and verified\n"
     ]
    }
   ],
   "source": [
    "# Load and transform training and validation datasets\n",
    "\n",
    "train_dataset = datasets.CIFAR100(data_path, train=True,\n",
    "                                  transform=trs, download=True)\n",
    "valid_dataset = datasets.CIFAR100(data_path, train=False,\n",
    "                                  transform=trs, download=True)"
   ]
  },
  {
   "cell_type": "code",
   "execution_count": 9,
   "metadata": {
    "colab": {},
    "colab_type": "code",
    "id": "y9sSjCPrlriV"
   },
   "outputs": [],
   "source": [
    "# Create data loaders\n",
    "\n",
    "train_data_gen = torch.utils.data.DataLoader(train_dataset, batch_size,\n",
    "                                             num_workers=1, pin_memory=False)\n",
    "valid_data_gen = torch.utils.data.DataLoader(valid_dataset, batch_size,\n",
    "                                             num_workers=1, pin_memory=False)\n",
    "\n",
    "dataloaders = {'train': train_data_gen,\n",
    "               'valid': valid_data_gen}\n",
    "\n",
    "dataset_sizes = {'train': len(train_data_gen.dataset),\n",
    "                 'valid': len(valid_data_gen.dataset)}"
   ]
  },
  {
   "cell_type": "code",
   "execution_count": 10,
   "metadata": {
    "colab": {},
    "colab_type": "code",
    "id": "XX53OkKikEqP"
   },
   "outputs": [],
   "source": [
    "# Loss function and optimizer\n",
    "\n",
    "criterion = selected_criterion()\n",
    "optimizer = selected_optimizer(model.parameters(), lr=learning_rate)"
   ]
  },
  {
   "cell_type": "code",
   "execution_count": 11,
   "metadata": {
    "colab": {},
    "colab_type": "code",
    "id": "kFTweDg7ndBT"
   },
   "outputs": [],
   "source": [
    "# Training procedure\n",
    "\n",
    "def train_model(model, criterion, optimizer, num_epochs=1):\n",
    "\n",
    "    best_model_weigths = model.state_dict()\n",
    "    best_acc = 0.0\n",
    "\n",
    "    stats = {'Epoch': [],\n",
    "             'Epoch_time': [],\n",
    "             'Epoch_train_loss': [],\n",
    "             'Epoch_valid_loss': [],\n",
    "             'Epoch_train_accuracy': [],\n",
    "             'Epoch_valid_accuracy': []}\n",
    "\n",
    "    for epoch in range(num_epochs):\n",
    "        print('Epoch {}/{}'.format(epoch + 1, num_epochs))\n",
    "        print('-' * 10)\n",
    "\n",
    "        t0 = time()\n",
    "        # stat_dic = {}\n",
    "\n",
    "        for phase in ['train', 'valid']:\n",
    "            if phase == 'train':\n",
    "                model.train(True)\n",
    "            else:\n",
    "                model.train(False)\n",
    "\n",
    "            running_loss = 0.0\n",
    "            running_corrects = 0\n",
    "\n",
    "            # Iterate over data\n",
    "            for data in dataloaders[phase]:\n",
    "                inputs, labels = data\n",
    "\n",
    "                if next(model.parameters()).is_cuda:\n",
    "                    inputs = inputs.cuda()\n",
    "                    labels = labels.cuda()\n",
    "\n",
    "                # Zero the parameter gradients\n",
    "                optimizer.zero_grad()\n",
    "                \n",
    "                # Forward pass\n",
    "                outputs = model(inputs)\n",
    "                _, preds = torch.max(outputs.data, 1)\n",
    "                loss = criterion(outputs, labels)\n",
    "\n",
    "                # Backward pass + optimize only if in training phase\n",
    "                if phase == 'train':\n",
    "                    loss.backward()\n",
    "                    optimizer.step()\n",
    "\n",
    "                # Record statistics\n",
    "                running_loss += loss.detach().item()\n",
    "                running_corrects += torch.sum(preds == labels.data).detach().item()\n",
    "\n",
    "            \n",
    "            epoch_loss = running_loss / dataset_sizes[phase]\n",
    "            epoch_acc = running_corrects / dataset_sizes[phase]\n",
    "            if phase == 'train':\n",
    "                stats['Epoch_train_loss'].append(epoch_loss)\n",
    "                stats['Epoch_train_accuracy'].append(epoch_acc)\n",
    "                print(f'Training loss: {epoch_loss:.4f}\\n'\n",
    "                      f'Training accuracy: {epoch_acc:.4f}')\n",
    "            else:\n",
    "                stats['Epoch_valid_loss'].append(epoch_loss)\n",
    "                stats['Epoch_valid_accuracy'].append(epoch_acc)\n",
    "                print(f'Validation loss: {epoch_loss:.4f}\\n'\n",
    "                      f'Validation accuracy: {epoch_acc:.4f}')\n",
    "\n",
    "            # Deep copy the model\n",
    "            if phase == 'valid' and epoch_acc > best_acc:\n",
    "                best_acc = epoch_acc\n",
    "                best_model_weigths = model.state_dict()\n",
    "        \n",
    "        stats['Epoch'].append(epoch + 1)\n",
    "        epoch_time = time() - t0\n",
    "        stats['Epoch_time'].append(epoch_time)\n",
    "        print(f'Epoch time: {epoch_time:.1f} secs')\n",
    "        print()\n",
    "\n",
    "    total_time = sum(stats['Epoch_time'])\n",
    "    print('Training complete in {:.0f}m {:.0f}s'.format(\n",
    "           total_time // 60, total_time % 60))\n",
    "    print(f'Best validation accuracy: {best_acc:.4f}')\n",
    "\n",
    "    # Load best model weights\n",
    "    model.load_state_dict(best_model_weigths)\n",
    "    return model, stats"
   ]
  },
  {
   "cell_type": "code",
   "execution_count": 12,
   "metadata": {
    "colab": {},
    "colab_type": "code",
    "id": "yequ9GOjoSG0"
   },
   "outputs": [
    {
     "name": "stdout",
     "output_type": "stream",
     "text": [
      "Epoch 1/10\n",
      "----------\n",
      "Training loss: 0.0691\n",
      "Training accuracy: 0.0596\n",
      "Validation loss: 0.0640\n",
      "Validation accuracy: 0.1382\n",
      "Epoch time: 266.7 secs\n",
      "\n",
      "Epoch 2/10\n",
      "----------\n",
      "Training loss: 0.0586\n",
      "Training accuracy: 0.2120\n",
      "Validation loss: 0.0535\n",
      "Validation accuracy: 0.2814\n",
      "Epoch time: 269.8 secs\n",
      "\n",
      "Epoch 3/10\n",
      "----------\n",
      "Training loss: 0.0491\n",
      "Training accuracy: 0.3402\n",
      "Validation loss: 0.0447\n",
      "Validation accuracy: 0.3878\n",
      "Epoch time: 271.2 secs\n",
      "\n",
      "Epoch 4/10\n",
      "----------\n",
      "Training loss: 0.0416\n",
      "Training accuracy: 0.4350\n",
      "Validation loss: 0.0382\n",
      "Validation accuracy: 0.4592\n",
      "Epoch time: 266.2 secs\n",
      "\n",
      "Epoch 5/10\n",
      "----------\n",
      "Training loss: 0.0360\n",
      "Training accuracy: 0.5002\n",
      "Validation loss: 0.0334\n",
      "Validation accuracy: 0.5140\n",
      "Epoch time: 264.7 secs\n",
      "\n",
      "Epoch 6/10\n",
      "----------\n",
      "Training loss: 0.0318\n",
      "Training accuracy: 0.5464\n",
      "Validation loss: 0.0300\n",
      "Validation accuracy: 0.5522\n",
      "Epoch time: 264.5 secs\n",
      "\n",
      "Epoch 7/10\n",
      "----------\n",
      "Training loss: 0.0287\n",
      "Training accuracy: 0.5813\n",
      "Validation loss: 0.0273\n",
      "Validation accuracy: 0.5851\n",
      "Epoch time: 264.3 secs\n",
      "\n",
      "Epoch 8/10\n",
      "----------\n",
      "Training loss: 0.0262\n",
      "Training accuracy: 0.6106\n",
      "Validation loss: 0.0252\n",
      "Validation accuracy: 0.6086\n",
      "Epoch time: 264.9 secs\n",
      "\n",
      "Epoch 9/10\n",
      "----------\n",
      "Training loss: 0.0242\n",
      "Training accuracy: 0.6332\n",
      "Validation loss: 0.0235\n",
      "Validation accuracy: 0.6272\n",
      "Epoch time: 266.1 secs\n",
      "\n",
      "Epoch 10/10\n",
      "----------\n",
      "Training loss: 0.0225\n",
      "Training accuracy: 0.6539\n",
      "Validation loss: 0.0222\n",
      "Validation accuracy: 0.6443\n",
      "Epoch time: 268.3 secs\n",
      "\n",
      "Training complete in 44m 27s\n",
      "Best validation accuracy: 0.6443\n"
     ]
    }
   ],
   "source": [
    "# Run training\n",
    "\n",
    "model, stats = train_model(model, criterion, optimizer, num_epochs)"
   ]
  },
  {
   "cell_type": "code",
   "execution_count": 13,
   "metadata": {
    "colab": {},
    "colab_type": "code",
    "id": "a85cLstJ9CWq"
   },
   "outputs": [],
   "source": [
    "# Save stats\n",
    "stats_df = pd.DataFrame(stats)\n",
    "stats_df.to_csv(os.path.join(save_dir, 'stats.csv'), index=False)"
   ]
  },
  {
   "cell_type": "code",
   "execution_count": 14,
   "metadata": {
    "colab": {},
    "colab_type": "code",
    "id": "NyKND7Ue6e0E"
   },
   "outputs": [
    {
     "data": {
      "image/png": "[encoded data removed]",
      "text/plain": [
       "<Figure size 432x288 with 1 Axes>"
      ]
     },
     "metadata": {
      "needs_background": "light"
     },
     "output_type": "display_data"
    }
   ],
   "source": [
    "# Print and save epoch losses plot\n",
    "plt.plot(stats['Epoch'], stats['Epoch_train_loss'])\n",
    "plt.plot(stats['Epoch'], stats['Epoch_valid_loss'])\n",
    "plt.title('Epoch losses')\n",
    "plt.legend(['train_loss', 'valid_loss'])\n",
    "plt.savefig(os.path.join(save_dir, 'epoch_losses.png'))"
   ]
  },
  {
   "cell_type": "code",
   "execution_count": 15,
   "metadata": {
    "colab": {},
    "colab_type": "code",
    "id": "UBfMuOUe7tNT"
   },
   "outputs": [
    {
     "data": {
      "image/png": "[encoded data removed]",
      "text/plain": [
       "<Figure size 432x288 with 1 Axes>"
      ]
     },
     "metadata": {
      "needs_background": "light"
     },
     "output_type": "display_data"
    }
   ],
   "source": [
    "# Print and save epoch accuracy plot\n",
    "plt.plot(stats['Epoch'], stats['Epoch_train_accuracy'])\n",
    "plt.plot(stats['Epoch'], stats['Epoch_valid_accuracy'])\n",
    "plt.title('Epoch accuracy')\n",
    "plt.legend(['train_acc', 'valid_acc'])\n",
    "plt.savefig(os.path.join(save_dir, 'epoch_accuracy.png'))"
   ]
  },
  {
   "cell_type": "code",
   "execution_count": 16,
   "metadata": {
    "colab": {},
    "colab_type": "code",
    "id": "fCfB-9jX8JcL"
   },
   "outputs": [
    {
     "data": {
      "image/png": "[encoded data removed]",
      "text/plain": [
       "<Figure size 432x288 with 1 Axes>"
      ]
     },
     "metadata": {
      "needs_background": "light"
     },
     "output_type": "display_data"
    }
   ],
   "source": [
    "# Print and save epoch times plot\n",
    "plt.plot(stats['Epoch'], stats['Epoch_time'])\n",
    "plt.title('Epoch times')\n",
    "plt.savefig(os.path.join(save_dir, 'epoch_times.png'))"
   ]
  },
  {
   "cell_type": "code",
   "execution_count": null,
   "metadata": {},
   "outputs": [],
   "source": []
  }
 ],
 "metadata": {
  "accelerator": "GPU",
  "colab": {
   "authorship_tag": "ABX9TyOwe22mQkQmwz6uTH2dU6tP",
   "collapsed_sections": [],
   "mount_file_id": "1hF60VTseUWL2tKRIcrw9iBNNLUOVgOFQ",
   "name": "resnet_cifar100_gpu_perf_test.ipynb",
   "provenance": [],
   "toc_visible": true
  },
  "kernelspec": {
   "display_name": "Python 3",
   "language": "python",
   "name": "python3"
  },
  "language_info": {
   "codemirror_mode": {
    "name": "ipython",
    "version": 3
   },
   "file_extension": ".py",
   "mimetype": "text/x-python",
   "name": "python",
   "nbconvert_exporter": "python",
   "pygments_lexer": "ipython3",
   "version": "3.7.7"
  }
 },
 "nbformat": 4,
 "nbformat_minor": 4
}
