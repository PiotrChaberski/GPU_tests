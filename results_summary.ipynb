{
 "cells": [
  {
   "cell_type": "code",
   "execution_count": null,
   "metadata": {},
   "outputs": [],
   "source": [
    "import os\n",
    "import pandas as pd\n",
    "import matplotlib.pyplot as plt\n",
    "from pathlib import Path"
   ]
  },
  {
   "cell_type": "code",
   "execution_count": null,
   "metadata": {},
   "outputs": [],
   "source": [
    "os.getcwd()"
   ]
  },
  {
   "cell_type": "code",
   "execution_count": null,
   "metadata": {},
   "outputs": [],
   "source": [
    "# Create stats dictionary\n",
    "\n",
    "stats_path_gen = Path(os.getcwd()).rglob('stats.csv')\n",
    "stats_dict = {}\n",
    "\n",
    "for stats_path in stats_path_gen:\n",
    "    stats_path_splitted = os.path.normpath(stats_path).split(os.sep)\n",
    "    stats_dict[stats_path_splitted[-4] + \"_\" + stats_path_splitted[-2]] = pd.read_csv(stats_path)"
   ]
  },
  {
   "cell_type": "code",
   "execution_count": null,
   "metadata": {},
   "outputs": [],
   "source": [
    "list(stats_dict.keys())"
   ]
  },
  {
   "cell_type": "code",
   "execution_count": null,
   "metadata": {},
   "outputs": [],
   "source": [
    "# Get GAN training times\n",
    "\n",
    "gan_times = {\n",
    "    'Epoch': list(stats_dict['GAN_GPU_tests_GeForce_GTX_1050_20200317190205']['Epoch']),\n",
    "    'local_GTX_1050': list(stats_dict['GAN_GPU_tests_GeForce_GTX_1050_20200317190205']['Epoch_time']),\n",
    "    'colab_P4': list(stats_dict['GAN_GPU_tests_Tesla_P4_20200318074256']['Epoch_time']),\n",
    "    'colab_K80': list(stats_dict['GAN_GPU_tests_Tesla_K80_20200317212704']['Epoch_time']),\n",
    "    'colab_T4': list(stats_dict['GAN_GPU_tests_Tesla_T4_20200317185004']['Epoch_time']),\n",
    "    'colab_P100': list(stats_dict['GAN_GPU_tests_Tesla_P100-PCIE-16GB_20200317175444']['Epoch_time'])\n",
    "}"
   ]
  },
  {
   "cell_type": "code",
   "execution_count": null,
   "metadata": {},
   "outputs": [],
   "source": [
    "# Get Resnet training times\n",
    "\n",
    "resnet_times = {\n",
    "    'Epoch': list(stats_dict['Resnet_GPU_tests_GeForce_GTX_1050_20200318224127']['Epoch']),\n",
    "    'local_GTX_1050': list(stats_dict['Resnet_GPU_tests_GeForce_GTX_1050_20200318224127']['Epoch_time']),\n",
    "    'colab_P4': list(stats_dict['Resnet_GPU_tests_Tesla_P4_20200319081842']['Epoch_time']),\n",
    "    'colab_K80': list(stats_dict['Resnet_GPU_tests_Tesla_K80_20200319103754']['Epoch_time']),\n",
    "    'colab_T4': list(stats_dict['Resnet_GPU_tests_Tesla_T4_20200319093416']['Epoch_time']),\n",
    "    'colab_P100': list(stats_dict['Resnet_GPU_tests_Tesla_P100-PCIE-16GB_20200318213725']['Epoch_time'])\n",
    "}"
   ]
  },
  {
   "cell_type": "code",
   "execution_count": null,
   "metadata": {},
   "outputs": [],
   "source": [
    "# GAN training times plot\n",
    "\n",
    "df_gan_times = pd.DataFrame(gan_times)\n",
    "df_gan_times.set_index('Epoch').plot(figsize=(15,10), grid=True, ylim=(0, df_gan_times.max().max()))"
   ]
  },
  {
   "cell_type": "code",
   "execution_count": null,
   "metadata": {},
   "outputs": [],
   "source": [
    "# Resnet training times plot\n",
    "\n",
    "df_resnet_times = pd.DataFrame(resnet_times)\n",
    "df_resnet_times.set_index('Epoch').plot(figsize=(15,10), grid=True, ylim=(0, df_resnet_times.max().max()))"
   ]
  }
 ],
 "metadata": {
  "kernelspec": {
   "display_name": "Python 3",
   "language": "python",
   "name": "python3"
  },
  "language_info": {
   "codemirror_mode": {
    "name": "ipython",
    "version": 3
   },
   "file_extension": ".py",
   "mimetype": "text/x-python",
   "name": "python",
   "nbconvert_exporter": "python",
   "pygments_lexer": "ipython3",
   "version": "3.8.2"
  }
 },
 "nbformat": 4,
 "nbformat_minor": 4
}
