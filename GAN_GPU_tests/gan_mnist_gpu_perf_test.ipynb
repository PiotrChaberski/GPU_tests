{
 "cells": [
  {
   "cell_type": "markdown",
   "metadata": {
    "colab_type": "text",
    "id": "vzGsmOEfd3ct"
   },
   "source": [
    "# Testing local GPU vs. Colab GPUs performance using GAN MNIST generator with PyTorch\n",
    "\n",
    "Model based on:  \n",
    "https://www.tensorflow.org/tutorials/generative/dcgan\n",
    "\n",
    "Pytorch implementation based on:  \n",
    "https://medium.com/ai-society/gans-from-scratch-1-a-deep-introduction-with-code-in-pytorch-and-tensorflow-cb03cdcdba0f\n",
    "\n"
   ]
  },
  {
   "cell_type": "code",
   "execution_count": 1,
   "metadata": {
    "colab": {},
    "colab_type": "code",
    "id": "8p_DOhcKZbfL"
   },
   "outputs": [],
   "source": [
    "import torch\n",
    "from torch import nn, optim\n",
    "from torchvision import transforms, datasets\n",
    "import matplotlib.pyplot as plt\n",
    "from time import time\n",
    "from datetime import datetime\n",
    "from IPython import display\n",
    "import pandas as pd\n",
    "import re\n",
    "import os"
   ]
  },
  {
   "cell_type": "code",
   "execution_count": 2,
   "metadata": {
    "colab": {},
    "colab_type": "code",
    "id": "3hLcNIqkWeQ5"
   },
   "outputs": [],
   "source": [
    "# Settings and parameters\n",
    "\n",
    "# Runtime settings\n",
    "local_runtime = True    # local runtime with CUDA on Win10\n",
    "use_gpu = True\n",
    "gdrive_mounted = True\n",
    "\n",
    "# Try to use CUDA only if available\n",
    "gpu_selected_and_available = use_gpu & torch.cuda.is_available()\n",
    "\n",
    "# Experiment parameters\n",
    "batch_size = 256\n",
    "learning_rate = 1e-4\n",
    "num_epochs = 50\n",
    "noise_dim = 100\n",
    "num_examples_to_generate = 16"
   ]
  },
  {
   "cell_type": "code",
   "execution_count": 3,
   "metadata": {
    "colab": {},
    "colab_type": "code",
    "id": "ALwRoJAfWdtt"
   },
   "outputs": [
    {
     "name": "stdout",
     "output_type": "stream",
     "text": [
      "Backend info:\n"
     ]
    },
    {
     "name": "stderr",
     "output_type": "stream",
     "text": [
      "'nvidia-smi' is not recognized as an internal or external command,\n",
      "operable program or batch file.\n"
     ]
    }
   ],
   "source": [
    "# Print backend info\n",
    "\n",
    "print('Backend info:')\n",
    "\n",
    "if local_runtime:\n",
    "    if gpu_selected_and_available:\n",
    "        !nvidia-smi\n",
    "    else:\n",
    "        !wmic cpu get caption, deviceid, name, numberofcores, maxclockspeed, status\n",
    "else:\n",
    "    if gpu_selected_and_available:\n",
    "        !nvidia-smi\n",
    "    else:\n",
    "        !cat /proc/cpuinfo"
   ]
  },
  {
   "cell_type": "code",
   "execution_count": 4,
   "metadata": {
    "colab": {},
    "colab_type": "code",
    "id": "GfVmzWKKWCuK"
   },
   "outputs": [],
   "source": [
    "# Directory settings - restart runtime if runtime settings changed!\n",
    "\n",
    "if not local_runtime:\n",
    "    if gdrive_mounted:\n",
    "        work_dir = '/content/drive/My Drive/GPU_tests/GAN_GPU_tests'\n",
    "    else:\n",
    "        work_dir = '/content/GAN_GPU_tests'\n",
    "else:\n",
    "    work_dir = 'C://Projects//GPU_tests//GAN_GPU_tests'\n",
    "os.makedirs(work_dir, exist_ok=True)\n",
    "os.chdir(work_dir)\n",
    "\n",
    "if gpu_selected_and_available:\n",
    "    if local_runtime:\n",
    "        device_name = !nvidia-smi --query-gpu=name --format=csv,noheader\n",
    "        device_name = device_name[0]\n",
    "    else:\n",
    "        device_name = !nvidia-smi --query-gpu=name --format=csv,noheader\n",
    "        device_name = device_name[0]\n",
    "else:\n",
    "    if local_runtime:\n",
    "        device_name = 'Local_CPU'\n",
    "    else:\n",
    "        device_name = 'Colab_CPU'\n",
    "\n",
    "data_path = os.path.join(os.getcwd(), 'data')\n",
    "save_dir = os.path.join(os.getcwd(), 'results',\n",
    "                        re.sub(' ', '_', device_name) + '_' +\\\n",
    "                        re.sub('-| |:', '', str(datetime.now()).split('.')[0]))\n",
    "os.makedirs(save_dir, exist_ok=True)"
   ]
  },
  {
   "cell_type": "code",
   "execution_count": 6,
   "metadata": {},
   "outputs": [],
   "source": [
    "from ipywidgets import IntProgress"
   ]
  },
  {
   "cell_type": "code",
   "execution_count": 7,
   "metadata": {
    "colab": {},
    "colab_type": "code",
    "id": "fmr4X54Do4Ee"
   },
   "outputs": [
    {
     "name": "stdout",
     "output_type": "stream",
     "text": [
      "Downloading http://yann.lecun.com/exdb/mnist/train-images-idx3-ubyte.gz to C:\\Projects\\GPU_tests\\GAN_GPU_tests\\data\\MNIST\\raw\\train-images-idx3-ubyte.gz\n"
     ]
    },
    {
     "data": {
      "application/vnd.jupyter.widget-view+json": {
       "model_id": "d935ae2788b94484a5be44199da67383",
       "version_major": 2,
       "version_minor": 0
      },
      "text/plain": [
       "HBox(children=(FloatProgress(value=1.0, bar_style='info', max=1.0), HTML(value='')))"
      ]
     },
     "metadata": {},
     "output_type": "display_data"
    },
    {
     "name": "stdout",
     "output_type": "stream",
     "text": [
      "Extracting C:\\Projects\\GPU_tests\\GAN_GPU_tests\\data\\MNIST\\raw\\train-images-idx3-ubyte.gz to C:\\Projects\\GPU_tests\\GAN_GPU_tests\\data\\MNIST\\raw\n",
      "Downloading http://yann.lecun.com/exdb/mnist/train-labels-idx1-ubyte.gz to C:\\Projects\\GPU_tests\\GAN_GPU_tests\\data\\MNIST\\raw\\train-labels-idx1-ubyte.gz\n"
     ]
    },
    {
     "data": {
      "application/vnd.jupyter.widget-view+json": {
       "model_id": "60e2588236ae4e989e7599d4c1cbdc1d",
       "version_major": 2,
       "version_minor": 0
      },
      "text/plain": [
       "HBox(children=(FloatProgress(value=1.0, bar_style='info', max=1.0), HTML(value='')))"
      ]
     },
     "metadata": {},
     "output_type": "display_data"
    },
    {
     "name": "stdout",
     "output_type": "stream",
     "text": [
      "Extracting C:\\Projects\\GPU_tests\\GAN_GPU_tests\\data\\MNIST\\raw\\train-labels-idx1-ubyte.gz to C:\\Projects\\GPU_tests\\GAN_GPU_tests\\data\\MNIST\\raw\n",
      "Downloading http://yann.lecun.com/exdb/mnist/t10k-images-idx3-ubyte.gz to C:\\Projects\\GPU_tests\\GAN_GPU_tests\\data\\MNIST\\raw\\t10k-images-idx3-ubyte.gz\n",
      "\n"
     ]
    },
    {
     "data": {
      "application/vnd.jupyter.widget-view+json": {
       "model_id": "bd3197a46ee9461b9e9b779aedb8c07b",
       "version_major": 2,
       "version_minor": 0
      },
      "text/plain": [
       "HBox(children=(FloatProgress(value=1.0, bar_style='info', max=1.0), HTML(value='')))"
      ]
     },
     "metadata": {},
     "output_type": "display_data"
    },
    {
     "name": "stdout",
     "output_type": "stream",
     "text": [
      "Extracting C:\\Projects\\GPU_tests\\GAN_GPU_tests\\data\\MNIST\\raw\\t10k-images-idx3-ubyte.gz to C:\\Projects\\GPU_tests\\GAN_GPU_tests\\data\\MNIST\\raw\n",
      "Downloading http://yann.lecun.com/exdb/mnist/t10k-labels-idx1-ubyte.gz to C:\\Projects\\GPU_tests\\GAN_GPU_tests\\data\\MNIST\\raw\\t10k-labels-idx1-ubyte.gz\n"
     ]
    },
    {
     "data": {
      "application/vnd.jupyter.widget-view+json": {
       "model_id": "42875d831d1843ce80c1b7c7870d4279",
       "version_major": 2,
       "version_minor": 0
      },
      "text/plain": [
       "HBox(children=(FloatProgress(value=1.0, bar_style='info', max=1.0), HTML(value='')))"
      ]
     },
     "metadata": {},
     "output_type": "display_data"
    },
    {
     "name": "stdout",
     "output_type": "stream",
     "text": [
      "Extracting C:\\Projects\\GPU_tests\\GAN_GPU_tests\\data\\MNIST\\raw\\t10k-labels-idx1-ubyte.gz to C:\\Projects\\GPU_tests\\GAN_GPU_tests\\data\\MNIST\\raw\n",
      "Processing...\n",
      "Done!\n"
     ]
    }
   ],
   "source": [
    "# Prepare training set\n",
    "\n",
    "trs = transforms.Compose([\n",
    "    transforms.ToTensor(),\n",
    "    transforms.Normalize((0.5,), (0.5,))\n",
    "])\n",
    "\n",
    "train_set = datasets.MNIST(root=data_path, train=True,\n",
    "                           transform=trs, download=True)"
   ]
  },
  {
   "cell_type": "code",
   "execution_count": 8,
   "metadata": {
    "colab": {},
    "colab_type": "code",
    "id": "iOlIwhk2prfR"
   },
   "outputs": [],
   "source": [
    "# Prepare data loader\n",
    "\n",
    "data_loader = torch.utils.data.DataLoader(train_set, batch_size=batch_size,\n",
    "                                          shuffle=True)"
   ]
  },
  {
   "cell_type": "code",
   "execution_count": 9,
   "metadata": {
    "colab": {},
    "colab_type": "code",
    "id": "ve60X5Szw-0j"
   },
   "outputs": [],
   "source": [
    "# Calcuate number of batches (iterations)\n",
    "\n",
    "num_batches = len(data_loader)"
   ]
  },
  {
   "cell_type": "code",
   "execution_count": 10,
   "metadata": {
    "colab": {},
    "colab_type": "code",
    "id": "9Flxo1GmxE3R"
   },
   "outputs": [],
   "source": [
    "# Discriminator class definition\n",
    "\n",
    "class Discriminator(torch.nn.Module):\n",
    "    def __init__(self):\n",
    "        super().__init__()\n",
    "        \n",
    "        self.conv = nn.Sequential(\n",
    "            nn.Conv2d(1, 64, 5, stride=2, padding=2),\n",
    "            nn.LeakyReLU(0.3),\n",
    "            nn.Dropout(0.3),\n",
    "            nn.Conv2d(64, 128, 5, stride=2, padding=2),\n",
    "            nn.LeakyReLU(0.3)\n",
    "        )\n",
    "\n",
    "        self.linear = nn.Sequential(\n",
    "            nn.Dropout(0.3),\n",
    "            nn.Linear(6272, 1)\n",
    "        )\n",
    "\n",
    "    def forward(self, x):\n",
    "        BS = x.shape[0]\n",
    "        x = self.conv(x)\n",
    "        x = x.view(BS, -1)\n",
    "        x = self.linear(x)\n",
    "        return x"
   ]
  },
  {
   "cell_type": "code",
   "execution_count": 11,
   "metadata": {
    "colab": {},
    "colab_type": "code",
    "id": "5pyEOBdNOOyg"
   },
   "outputs": [
    {
     "name": "stdout",
     "output_type": "stream",
     "text": [
      "Model on CUDA: True        Input on CUDA: True        Output shape: torch.Size([256, 1])\n"
     ]
    }
   ],
   "source": [
    "# Discriminator test\n",
    "\n",
    "discriminator = Discriminator()\n",
    "sample_tensor = torch.rand(batch_size, 1, 28, 28)\n",
    "\n",
    "if gpu_selected_and_available:\n",
    "    discriminator.cuda()\n",
    "    sample_tensor = sample_tensor.cuda()\n",
    "\n",
    "print(f'Model on CUDA: {next(discriminator.parameters()).is_cuda}\\\n",
    "        Input on CUDA: {sample_tensor.is_cuda}\\\n",
    "        Output shape: {discriminator.forward(sample_tensor).shape}')"
   ]
  },
  {
   "cell_type": "code",
   "execution_count": 12,
   "metadata": {
    "colab": {},
    "colab_type": "code",
    "id": "iWWmqDSfOmC9"
   },
   "outputs": [],
   "source": [
    "# Generator class definition\n",
    "\n",
    "class Generator(torch.nn.Module):\n",
    "\n",
    "    def __init__(self):\n",
    "        super().__init__()\n",
    "\n",
    "        self.linear = nn.Sequential(\n",
    "            nn.Linear(100, 7*7*256, bias=False)\n",
    "        )        \n",
    "\n",
    "        self.tconv = nn.Sequential(\n",
    "            nn.BatchNorm2d(256),\n",
    "            nn.LeakyReLU(0.3),\n",
    "            nn.ConvTranspose2d(256, 128, 5, stride=1,\n",
    "                               padding=2, bias=False),\n",
    "            nn.BatchNorm2d(128),\n",
    "            nn.LeakyReLU(0.3),\n",
    "            nn.ConvTranspose2d(128, 64, 5, stride=2,\n",
    "                               padding=2, output_padding=1, bias=False),\n",
    "            nn.BatchNorm2d(64),\n",
    "            nn.LeakyReLU(0.3),\n",
    "            nn.ConvTranspose2d(64, 1, 5, stride=2,\n",
    "                               padding=2, output_padding=1, bias=False),\n",
    "            nn.Tanh()\n",
    "        )\n",
    "\n",
    "    def forward(self, x):\n",
    "        BS = x.shape[0]\n",
    "        x = self.linear(x)\n",
    "        x = x.view(BS, 256, 7, 7)\n",
    "        x = self.tconv(x)\n",
    "        return x"
   ]
  },
  {
   "cell_type": "code",
   "execution_count": 13,
   "metadata": {
    "colab": {},
    "colab_type": "code",
    "id": "JNh1DetrqfJ_"
   },
   "outputs": [
    {
     "name": "stdout",
     "output_type": "stream",
     "text": [
      "Model on CUDA: True        Input on CUDA: True        Output shape: torch.Size([256, 1, 28, 28])\n",
      "Sample generated image:\n"
     ]
    },
    {
     "data": {
      "text/plain": [
       "<matplotlib.image.AxesImage at 0x15089811648>"
      ]
     },
     "execution_count": 13,
     "metadata": {},
     "output_type": "execute_result"
    },
    {
     "data": {
      "image/png": "[encoded data removed]",
      "text/plain": [
       "<Figure size 432x288 with 1 Axes>"
      ]
     },
     "metadata": {
      "needs_background": "light"
     },
     "output_type": "display_data"
    }
   ],
   "source": [
    "# Generator test\n",
    "\n",
    "generator = Generator()\n",
    "sample_noise = torch.rand(batch_size, 100)\n",
    "\n",
    "if gpu_selected_and_available:\n",
    "    generator.cuda()\n",
    "    sample_noise = sample_noise.cuda()\n",
    "\n",
    "generated_images = generator.forward(sample_noise)\n",
    "\n",
    "print(f'Model on CUDA: {next(generator.parameters()).is_cuda}\\\n",
    "        Input on CUDA: {sample_noise.is_cuda}\\\n",
    "        Output shape: {generated_images.shape}')\n",
    "\n",
    "if gpu_selected_and_available:\n",
    "    generated_images = generated_images.cpu()\n",
    "\n",
    "print('Sample generated image:')\n",
    "plt.imshow(generated_images[0, 0, :, :].detach().numpy())"
   ]
  },
  {
   "cell_type": "code",
   "execution_count": 14,
   "metadata": {
    "colab": {},
    "colab_type": "code",
    "id": "R_KFjVYxNi0O"
   },
   "outputs": [],
   "source": [
    "# Auxiliary functions\n",
    "\n",
    "def noise(size, on_cuda=False):\n",
    "    n = torch.randn(size, 100)\n",
    "    if on_cuda:\n",
    "        n = n.cuda()\n",
    "    return n\n",
    "\n",
    "def ones_target(size, on_cuda=False):\n",
    "    data = torch.ones(size, 1)\n",
    "    if on_cuda:\n",
    "        data = data.cuda()\n",
    "    return data\n",
    "\n",
    "def zeros_target(size, on_cuda=False):\n",
    "    data = torch.zeros(size, 1)\n",
    "    if on_cuda:\n",
    "        data = data.cuda()\n",
    "    return data\n",
    "\n",
    "def generate_and_save_images(save_dir, model, epoch, test_input, on_cuda=False):\n",
    "    model.train(False)\n",
    "    predictions = model.forward(test_input)\n",
    "    if on_cuda:\n",
    "        predictions = predictions.cpu()\n",
    "    predictions = predictions.detach().numpy()\n",
    "    model.train(True)\n",
    "\n",
    "    fig = plt.figure(figsize=(4,4))\n",
    "\n",
    "    for i in range(predictions.shape[0]):\n",
    "        plt.subplot(4, 4, i + 1)\n",
    "        plt.imshow(predictions[i, 0, :, :]*127.5 + 127.5, cmap='gray')\n",
    "        plt.axis('off')\n",
    "\n",
    "    plt.savefig(os.path.join(save_dir, f'image_at_epoch_{epoch}.png'))\n",
    "    plt.show()"
   ]
  },
  {
   "cell_type": "code",
   "execution_count": 15,
   "metadata": {
    "colab": {},
    "colab_type": "code",
    "id": "xZ00ff7FSW5D"
   },
   "outputs": [],
   "source": [
    "# Create discriminator and generator\n",
    "\n",
    "discriminator = Discriminator()\n",
    "generator = Generator()\n",
    "if gpu_selected_and_available:\n",
    "    discriminator.cuda()\n",
    "    generator.cuda()    "
   ]
  },
  {
   "cell_type": "code",
   "execution_count": 16,
   "metadata": {
    "colab": {},
    "colab_type": "code",
    "id": "fCaCw336PNKz"
   },
   "outputs": [],
   "source": [
    "# Set optimizer and loss function\n",
    "\n",
    "discriminator_optimizer = optim.Adam(discriminator.parameters(),\n",
    "                                     lr=learning_rate)\n",
    "generator_optimizer = optim.Adam(generator.parameters(),\n",
    "                                 lr=learning_rate)\n",
    "loss = nn.BCEWithLogitsLoss()"
   ]
  },
  {
   "cell_type": "code",
   "execution_count": 17,
   "metadata": {
    "colab": {},
    "colab_type": "code",
    "id": "E0IjEeMlTrm7"
   },
   "outputs": [],
   "source": [
    "# Function for discriminator training step\n",
    "\n",
    "def train_discriminator(optimizer, real_data, fake_data):\n",
    "    N = real_data.size(0)\n",
    "\n",
    "    # Reset gradients\n",
    "    optimizer.zero_grad()\n",
    "\n",
    "    ### Train on Real Data\n",
    "    prediction_real = discriminator(real_data)\n",
    "\n",
    "    # Calculate loss and backpropagate\n",
    "    loss_real = loss(prediction_real,\n",
    "                     ones_target(N, on_cuda=gpu_selected_and_available))\n",
    "    loss_real.backward()\n",
    "\n",
    "    ### Train on Fake Data\n",
    "    prediction_fake = discriminator(fake_data)\n",
    "    \n",
    "    # Calculate loss and backpropagate\n",
    "    loss_fake = loss(prediction_fake,\n",
    "                     zeros_target(N, on_cuda=gpu_selected_and_available))\n",
    "    loss_fake.backward()\n",
    "    \n",
    "    ### Update weights with gradients\n",
    "    optimizer.step()\n",
    "    \n",
    "    # Return loss and predictions for real and fake inputs\n",
    "    return loss_real + loss_fake, prediction_real, prediction_fake"
   ]
  },
  {
   "cell_type": "code",
   "execution_count": 18,
   "metadata": {
    "colab": {},
    "colab_type": "code",
    "id": "FxgBFz1mUkEY"
   },
   "outputs": [],
   "source": [
    "# Function for generator training step\n",
    "\n",
    "def train_generator(optimizer, fake_data):\n",
    "    N = fake_data.size(0)\n",
    "\n",
    "    # Reset gradients\n",
    "    optimizer.zero_grad()\n",
    "\n",
    "    # Sample noise and generate fake data\n",
    "    prediction = discriminator(fake_data)\n",
    "\n",
    "    # Calculate loss and backpropagate\n",
    "    gen_loss = loss(prediction,\n",
    "                    ones_target(N, on_cuda=gpu_selected_and_available))\n",
    "    gen_loss.backward()\n",
    "\n",
    "    # Update weights with gradients\n",
    "    optimizer.step()\n",
    "    \n",
    "    # Return loss\n",
    "    return gen_loss"
   ]
  },
  {
   "cell_type": "code",
   "execution_count": 19,
   "metadata": {
    "colab": {},
    "colab_type": "code",
    "id": "AbwCxfx2U013"
   },
   "outputs": [],
   "source": [
    "# Generate test noise\n",
    "\n",
    "test_noise = noise(num_examples_to_generate,\n",
    "                   on_cuda=gpu_selected_and_available)"
   ]
  },
  {
   "cell_type": "code",
   "execution_count": 20,
   "metadata": {
    "colab": {},
    "colab_type": "code",
    "id": "5EMsWyZhVKD2"
   },
   "outputs": [
    {
     "name": "stdout",
     "output_type": "stream",
     "text": [
      "Training complete. Total time in secs: 2491.73\n"
     ]
    }
   ],
   "source": [
    "# Training loop\n",
    "\n",
    "epoch_times = []\n",
    "epoch_disc_losses = []\n",
    "epoch_gen_losses = []\n",
    "\n",
    "for epoch in range(num_epochs):\n",
    "    \n",
    "    t0 = time()\n",
    "    running_disc_loss = 0.0\n",
    "    running_gen_loss = 0.0\n",
    "    \n",
    "    for n_batch, (real_batch, _) in enumerate(data_loader):\n",
    "        N = real_batch.size(0)\n",
    "        if gpu_selected_and_available:\n",
    "            real_batch = real_batch.cuda()\n",
    "\n",
    "        ### Train Discriminator\n",
    "        real_data = real_batch\n",
    "        # Generate fake data and detach \n",
    "        fake_data = generator(noise(N, on_cuda=gpu_selected_and_available))\n",
    "        # Train Disctriminator\n",
    "        disc_loss, d_pred_real, d_pred_fake = \\\n",
    "              train_discriminator(discriminator_optimizer, real_data, fake_data)\n",
    "\n",
    "        ### Train Generator\n",
    "        # Generate fake data\n",
    "        fake_data = generator(noise(N, on_cuda=gpu_selected_and_available))\n",
    "        # Train Generator\n",
    "        gen_loss = train_generator(generator_optimizer, fake_data)\n",
    "        \n",
    "        # Record batch losses\n",
    "        if gpu_selected_and_available:\n",
    "            disc_loss = disc_loss.cpu()\n",
    "            gen_loss = gen_loss.cpu()\n",
    "        running_disc_loss += disc_loss.item()\n",
    "        running_gen_loss += gen_loss.item()\n",
    "\n",
    "    # Record epoch time and losses\n",
    "    epoch_times.append(time() - t0)\n",
    "    epoch_disc_loss = running_disc_loss / num_batches\n",
    "    epoch_gen_loss = running_gen_loss / num_batches\n",
    "    epoch_disc_losses.append(epoch_disc_loss)\n",
    "    epoch_gen_losses.append(epoch_gen_loss)\n",
    "\n",
    "    # Display generated images after each epoch\n",
    "    display.clear_output(wait=True)\n",
    "    generate_and_save_images(save_dir, generator, epoch + 1, test_noise,\n",
    "                             on_cuda=gpu_selected_and_available)\n",
    "\n",
    "    # Print epoch time and losses\n",
    "    print(f'Epoch: {epoch + 1}\\\n",
    "            Epoch time: {epoch_times[-1]}\\\n",
    "            Discriminator loss: {epoch_disc_loss}\\\n",
    "            Generator loss: {epoch_gen_loss}')\n",
    "    \n",
    "display.clear_output(wait=True)\n",
    "print(f'Training complete. Total time in secs: {sum(epoch_times):.2f}')"
   ]
  },
  {
   "cell_type": "code",
   "execution_count": 21,
   "metadata": {
    "colab": {},
    "colab_type": "code",
    "id": "GYF4Wf-gxA1k"
   },
   "outputs": [
    {
     "name": "stdout",
     "output_type": "stream",
     "text": [
      "Sample of generated images after last epoch:\n"
     ]
    },
    {
     "data": {
      "image/png": "[encoded data removed]",
      "text/plain": [
       "<Figure size 288x288 with 16 Axes>"
      ]
     },
     "metadata": {
      "needs_background": "light"
     },
     "output_type": "display_data"
    }
   ],
   "source": [
    "# Display and save generated images after last epoch\n",
    "print('Sample of generated images after last epoch:')\n",
    "generate_and_save_images(save_dir, generator, num_epochs, test_noise,\n",
    "                         on_cuda=gpu_selected_and_available)"
   ]
  },
  {
   "cell_type": "code",
   "execution_count": 22,
   "metadata": {
    "colab": {},
    "colab_type": "code",
    "id": "0C_8Z1C9xE0-"
   },
   "outputs": [
    {
     "data": {
      "text/html": [
       "<div>\n",
       "<style scoped>\n",
       "    .dataframe tbody tr th:only-of-type {\n",
       "        vertical-align: middle;\n",
       "    }\n",
       "\n",
       "    .dataframe tbody tr th {\n",
       "        vertical-align: top;\n",
       "    }\n",
       "\n",
       "    .dataframe thead th {\n",
       "        text-align: right;\n",
       "    }\n",
       "</style>\n",
       "<table border=\"1\" class=\"dataframe\">\n",
       "  <thead>\n",
       "    <tr style=\"text-align: right;\">\n",
       "      <th></th>\n",
       "      <th>Epoch</th>\n",
       "      <th>Epoch_time</th>\n",
       "      <th>Discriminator_loss</th>\n",
       "      <th>Generator_loss</th>\n",
       "    </tr>\n",
       "  </thead>\n",
       "  <tbody>\n",
       "    <tr>\n",
       "      <th>0</th>\n",
       "      <td>1</td>\n",
       "      <td>50.415628</td>\n",
       "      <td>0.480671</td>\n",
       "      <td>2.147638</td>\n",
       "    </tr>\n",
       "    <tr>\n",
       "      <th>1</th>\n",
       "      <td>2</td>\n",
       "      <td>50.348327</td>\n",
       "      <td>0.476434</td>\n",
       "      <td>2.619167</td>\n",
       "    </tr>\n",
       "    <tr>\n",
       "      <th>2</th>\n",
       "      <td>3</td>\n",
       "      <td>49.751732</td>\n",
       "      <td>0.736779</td>\n",
       "      <td>2.597963</td>\n",
       "    </tr>\n",
       "    <tr>\n",
       "      <th>3</th>\n",
       "      <td>4</td>\n",
       "      <td>50.705096</td>\n",
       "      <td>0.466914</td>\n",
       "      <td>2.567376</td>\n",
       "    </tr>\n",
       "    <tr>\n",
       "      <th>4</th>\n",
       "      <td>5</td>\n",
       "      <td>50.615255</td>\n",
       "      <td>0.704719</td>\n",
       "      <td>2.072303</td>\n",
       "    </tr>\n",
       "    <tr>\n",
       "      <th>5</th>\n",
       "      <td>6</td>\n",
       "      <td>50.292528</td>\n",
       "      <td>0.753741</td>\n",
       "      <td>1.934053</td>\n",
       "    </tr>\n",
       "    <tr>\n",
       "      <th>6</th>\n",
       "      <td>7</td>\n",
       "      <td>49.994907</td>\n",
       "      <td>0.949981</td>\n",
       "      <td>1.909947</td>\n",
       "    </tr>\n",
       "    <tr>\n",
       "      <th>7</th>\n",
       "      <td>8</td>\n",
       "      <td>50.436939</td>\n",
       "      <td>0.959106</td>\n",
       "      <td>1.993245</td>\n",
       "    </tr>\n",
       "    <tr>\n",
       "      <th>8</th>\n",
       "      <td>9</td>\n",
       "      <td>50.017318</td>\n",
       "      <td>0.960450</td>\n",
       "      <td>1.624552</td>\n",
       "    </tr>\n",
       "    <tr>\n",
       "      <th>9</th>\n",
       "      <td>10</td>\n",
       "      <td>50.773166</td>\n",
       "      <td>0.909246</td>\n",
       "      <td>1.687936</td>\n",
       "    </tr>\n",
       "    <tr>\n",
       "      <th>10</th>\n",
       "      <td>11</td>\n",
       "      <td>50.649007</td>\n",
       "      <td>0.879941</td>\n",
       "      <td>1.600609</td>\n",
       "    </tr>\n",
       "    <tr>\n",
       "      <th>11</th>\n",
       "      <td>12</td>\n",
       "      <td>51.452175</td>\n",
       "      <td>0.882207</td>\n",
       "      <td>1.678065</td>\n",
       "    </tr>\n",
       "    <tr>\n",
       "      <th>12</th>\n",
       "      <td>13</td>\n",
       "      <td>49.891737</td>\n",
       "      <td>1.004746</td>\n",
       "      <td>1.664017</td>\n",
       "    </tr>\n",
       "    <tr>\n",
       "      <th>13</th>\n",
       "      <td>14</td>\n",
       "      <td>49.545892</td>\n",
       "      <td>1.020816</td>\n",
       "      <td>1.568396</td>\n",
       "    </tr>\n",
       "    <tr>\n",
       "      <th>14</th>\n",
       "      <td>15</td>\n",
       "      <td>48.228383</td>\n",
       "      <td>1.032569</td>\n",
       "      <td>1.414983</td>\n",
       "    </tr>\n",
       "    <tr>\n",
       "      <th>15</th>\n",
       "      <td>16</td>\n",
       "      <td>47.775582</td>\n",
       "      <td>0.987083</td>\n",
       "      <td>1.410073</td>\n",
       "    </tr>\n",
       "    <tr>\n",
       "      <th>16</th>\n",
       "      <td>17</td>\n",
       "      <td>48.337910</td>\n",
       "      <td>1.006324</td>\n",
       "      <td>1.432744</td>\n",
       "    </tr>\n",
       "    <tr>\n",
       "      <th>17</th>\n",
       "      <td>18</td>\n",
       "      <td>49.892666</td>\n",
       "      <td>0.976411</td>\n",
       "      <td>1.539861</td>\n",
       "    </tr>\n",
       "    <tr>\n",
       "      <th>18</th>\n",
       "      <td>19</td>\n",
       "      <td>50.304996</td>\n",
       "      <td>0.989809</td>\n",
       "      <td>1.571056</td>\n",
       "    </tr>\n",
       "    <tr>\n",
       "      <th>19</th>\n",
       "      <td>20</td>\n",
       "      <td>50.179262</td>\n",
       "      <td>0.984785</td>\n",
       "      <td>1.616526</td>\n",
       "    </tr>\n",
       "    <tr>\n",
       "      <th>20</th>\n",
       "      <td>21</td>\n",
       "      <td>49.929722</td>\n",
       "      <td>0.952586</td>\n",
       "      <td>1.614927</td>\n",
       "    </tr>\n",
       "    <tr>\n",
       "      <th>21</th>\n",
       "      <td>22</td>\n",
       "      <td>49.920335</td>\n",
       "      <td>1.001220</td>\n",
       "      <td>1.594124</td>\n",
       "    </tr>\n",
       "    <tr>\n",
       "      <th>22</th>\n",
       "      <td>23</td>\n",
       "      <td>49.824237</td>\n",
       "      <td>0.973738</td>\n",
       "      <td>1.545647</td>\n",
       "    </tr>\n",
       "    <tr>\n",
       "      <th>23</th>\n",
       "      <td>24</td>\n",
       "      <td>49.612993</td>\n",
       "      <td>1.042082</td>\n",
       "      <td>1.407207</td>\n",
       "    </tr>\n",
       "    <tr>\n",
       "      <th>24</th>\n",
       "      <td>25</td>\n",
       "      <td>49.935256</td>\n",
       "      <td>1.030061</td>\n",
       "      <td>1.541204</td>\n",
       "    </tr>\n",
       "    <tr>\n",
       "      <th>25</th>\n",
       "      <td>26</td>\n",
       "      <td>49.847565</td>\n",
       "      <td>0.978475</td>\n",
       "      <td>1.653422</td>\n",
       "    </tr>\n",
       "    <tr>\n",
       "      <th>26</th>\n",
       "      <td>27</td>\n",
       "      <td>49.978172</td>\n",
       "      <td>1.084948</td>\n",
       "      <td>1.503251</td>\n",
       "    </tr>\n",
       "    <tr>\n",
       "      <th>27</th>\n",
       "      <td>28</td>\n",
       "      <td>49.897076</td>\n",
       "      <td>1.056680</td>\n",
       "      <td>1.458988</td>\n",
       "    </tr>\n",
       "    <tr>\n",
       "      <th>28</th>\n",
       "      <td>29</td>\n",
       "      <td>50.064045</td>\n",
       "      <td>1.044359</td>\n",
       "      <td>1.402920</td>\n",
       "    </tr>\n",
       "    <tr>\n",
       "      <th>29</th>\n",
       "      <td>30</td>\n",
       "      <td>49.872236</td>\n",
       "      <td>1.066839</td>\n",
       "      <td>1.282083</td>\n",
       "    </tr>\n",
       "    <tr>\n",
       "      <th>30</th>\n",
       "      <td>31</td>\n",
       "      <td>49.934345</td>\n",
       "      <td>1.113001</td>\n",
       "      <td>1.273710</td>\n",
       "    </tr>\n",
       "    <tr>\n",
       "      <th>31</th>\n",
       "      <td>32</td>\n",
       "      <td>49.907182</td>\n",
       "      <td>1.102348</td>\n",
       "      <td>1.290968</td>\n",
       "    </tr>\n",
       "    <tr>\n",
       "      <th>32</th>\n",
       "      <td>33</td>\n",
       "      <td>49.775929</td>\n",
       "      <td>1.133727</td>\n",
       "      <td>1.244176</td>\n",
       "    </tr>\n",
       "    <tr>\n",
       "      <th>33</th>\n",
       "      <td>34</td>\n",
       "      <td>49.790338</td>\n",
       "      <td>1.130227</td>\n",
       "      <td>1.275348</td>\n",
       "    </tr>\n",
       "    <tr>\n",
       "      <th>34</th>\n",
       "      <td>35</td>\n",
       "      <td>49.890016</td>\n",
       "      <td>1.133126</td>\n",
       "      <td>1.283532</td>\n",
       "    </tr>\n",
       "    <tr>\n",
       "      <th>35</th>\n",
       "      <td>36</td>\n",
       "      <td>49.785551</td>\n",
       "      <td>1.141448</td>\n",
       "      <td>1.218234</td>\n",
       "    </tr>\n",
       "    <tr>\n",
       "      <th>36</th>\n",
       "      <td>37</td>\n",
       "      <td>49.781181</td>\n",
       "      <td>1.158940</td>\n",
       "      <td>1.161360</td>\n",
       "    </tr>\n",
       "    <tr>\n",
       "      <th>37</th>\n",
       "      <td>38</td>\n",
       "      <td>49.805665</td>\n",
       "      <td>1.144598</td>\n",
       "      <td>1.217157</td>\n",
       "    </tr>\n",
       "    <tr>\n",
       "      <th>38</th>\n",
       "      <td>39</td>\n",
       "      <td>49.952565</td>\n",
       "      <td>1.150845</td>\n",
       "      <td>1.168415</td>\n",
       "    </tr>\n",
       "    <tr>\n",
       "      <th>39</th>\n",
       "      <td>40</td>\n",
       "      <td>49.777999</td>\n",
       "      <td>1.160772</td>\n",
       "      <td>1.130052</td>\n",
       "    </tr>\n",
       "    <tr>\n",
       "      <th>40</th>\n",
       "      <td>41</td>\n",
       "      <td>49.863648</td>\n",
       "      <td>1.159005</td>\n",
       "      <td>1.129771</td>\n",
       "    </tr>\n",
       "    <tr>\n",
       "      <th>41</th>\n",
       "      <td>42</td>\n",
       "      <td>49.875963</td>\n",
       "      <td>1.164898</td>\n",
       "      <td>1.165463</td>\n",
       "    </tr>\n",
       "    <tr>\n",
       "      <th>42</th>\n",
       "      <td>43</td>\n",
       "      <td>47.680527</td>\n",
       "      <td>1.176895</td>\n",
       "      <td>1.165714</td>\n",
       "    </tr>\n",
       "    <tr>\n",
       "      <th>43</th>\n",
       "      <td>44</td>\n",
       "      <td>47.687473</td>\n",
       "      <td>1.161519</td>\n",
       "      <td>1.151997</td>\n",
       "    </tr>\n",
       "    <tr>\n",
       "      <th>44</th>\n",
       "      <td>45</td>\n",
       "      <td>48.298741</td>\n",
       "      <td>1.172553</td>\n",
       "      <td>1.114800</td>\n",
       "    </tr>\n",
       "    <tr>\n",
       "      <th>45</th>\n",
       "      <td>46</td>\n",
       "      <td>48.597207</td>\n",
       "      <td>1.183931</td>\n",
       "      <td>1.089329</td>\n",
       "    </tr>\n",
       "    <tr>\n",
       "      <th>46</th>\n",
       "      <td>47</td>\n",
       "      <td>51.274390</td>\n",
       "      <td>1.198086</td>\n",
       "      <td>1.091613</td>\n",
       "    </tr>\n",
       "    <tr>\n",
       "      <th>47</th>\n",
       "      <td>48</td>\n",
       "      <td>50.585591</td>\n",
       "      <td>1.168529</td>\n",
       "      <td>1.167569</td>\n",
       "    </tr>\n",
       "    <tr>\n",
       "      <th>48</th>\n",
       "      <td>49</td>\n",
       "      <td>50.546391</td>\n",
       "      <td>1.195122</td>\n",
       "      <td>1.129746</td>\n",
       "    </tr>\n",
       "    <tr>\n",
       "      <th>49</th>\n",
       "      <td>50</td>\n",
       "      <td>50.431767</td>\n",
       "      <td>1.177813</td>\n",
       "      <td>1.097484</td>\n",
       "    </tr>\n",
       "  </tbody>\n",
       "</table>\n",
       "</div>"
      ],
      "text/plain": [
       "    Epoch  Epoch_time  Discriminator_loss  Generator_loss\n",
       "0       1   50.415628            0.480671        2.147638\n",
       "1       2   50.348327            0.476434        2.619167\n",
       "2       3   49.751732            0.736779        2.597963\n",
       "3       4   50.705096            0.466914        2.567376\n",
       "4       5   50.615255            0.704719        2.072303\n",
       "5       6   50.292528            0.753741        1.934053\n",
       "6       7   49.994907            0.949981        1.909947\n",
       "7       8   50.436939            0.959106        1.993245\n",
       "8       9   50.017318            0.960450        1.624552\n",
       "9      10   50.773166            0.909246        1.687936\n",
       "10     11   50.649007            0.879941        1.600609\n",
       "11     12   51.452175            0.882207        1.678065\n",
       "12     13   49.891737            1.004746        1.664017\n",
       "13     14   49.545892            1.020816        1.568396\n",
       "14     15   48.228383            1.032569        1.414983\n",
       "15     16   47.775582            0.987083        1.410073\n",
       "16     17   48.337910            1.006324        1.432744\n",
       "17     18   49.892666            0.976411        1.539861\n",
       "18     19   50.304996            0.989809        1.571056\n",
       "19     20   50.179262            0.984785        1.616526\n",
       "20     21   49.929722            0.952586        1.614927\n",
       "21     22   49.920335            1.001220        1.594124\n",
       "22     23   49.824237            0.973738        1.545647\n",
       "23     24   49.612993            1.042082        1.407207\n",
       "24     25   49.935256            1.030061        1.541204\n",
       "25     26   49.847565            0.978475        1.653422\n",
       "26     27   49.978172            1.084948        1.503251\n",
       "27     28   49.897076            1.056680        1.458988\n",
       "28     29   50.064045            1.044359        1.402920\n",
       "29     30   49.872236            1.066839        1.282083\n",
       "30     31   49.934345            1.113001        1.273710\n",
       "31     32   49.907182            1.102348        1.290968\n",
       "32     33   49.775929            1.133727        1.244176\n",
       "33     34   49.790338            1.130227        1.275348\n",
       "34     35   49.890016            1.133126        1.283532\n",
       "35     36   49.785551            1.141448        1.218234\n",
       "36     37   49.781181            1.158940        1.161360\n",
       "37     38   49.805665            1.144598        1.217157\n",
       "38     39   49.952565            1.150845        1.168415\n",
       "39     40   49.777999            1.160772        1.130052\n",
       "40     41   49.863648            1.159005        1.129771\n",
       "41     42   49.875963            1.164898        1.165463\n",
       "42     43   47.680527            1.176895        1.165714\n",
       "43     44   47.687473            1.161519        1.151997\n",
       "44     45   48.298741            1.172553        1.114800\n",
       "45     46   48.597207            1.183931        1.089329\n",
       "46     47   51.274390            1.198086        1.091613\n",
       "47     48   50.585591            1.168529        1.167569\n",
       "48     49   50.546391            1.195122        1.129746\n",
       "49     50   50.431767            1.177813        1.097484"
      ]
     },
     "execution_count": 22,
     "metadata": {},
     "output_type": "execute_result"
    }
   ],
   "source": [
    "# Print and save time per epoch and gen/disc losses\n",
    "stats_df = pd.DataFrame({'Epoch': list(range(1, num_epochs + 1)),\n",
    "                         'Epoch_time': epoch_times,\n",
    "                         'Discriminator_loss': epoch_disc_losses,\n",
    "                         'Generator_loss': epoch_gen_losses})\n",
    "stats_df.to_csv(os.path.join(save_dir, 'stats.csv'), index=False)\n",
    "stats_df"
   ]
  },
  {
   "cell_type": "code",
   "execution_count": 23,
   "metadata": {
    "colab": {},
    "colab_type": "code",
    "id": "QbOMODzcxEm1"
   },
   "outputs": [
    {
     "data": {
      "image/png": "[encoded data removed]",
      "text/plain": [
       "<Figure size 432x288 with 1 Axes>"
      ]
     },
     "metadata": {
      "needs_background": "light"
     },
     "output_type": "display_data"
    }
   ],
   "source": [
    "# Print and save epoch losses plot\n",
    "plt.plot(epoch_gen_losses)\n",
    "plt.plot(epoch_disc_losses)\n",
    "plt.title('Generator and discriminator losses')\n",
    "plt.legend(['gen_loss', 'disc_loss'])\n",
    "plt.savefig(os.path.join(save_dir, 'epoch_losses.png'))"
   ]
  },
  {
   "cell_type": "code",
   "execution_count": 24,
   "metadata": {
    "colab": {},
    "colab_type": "code",
    "id": "Gy16dup-aKZx"
   },
   "outputs": [
    {
     "data": {
      "image/png": "[encoded data removed]",
      "text/plain": [
       "<Figure size 432x288 with 1 Axes>"
      ]
     },
     "metadata": {
      "needs_background": "light"
     },
     "output_type": "display_data"
    }
   ],
   "source": [
    "# Print and save epoch times plot\n",
    "plt.plot(epoch_times)\n",
    "plt.title('Epoch times')\n",
    "plt.savefig(os.path.join(save_dir, 'epoch_times.png'))"
   ]
  }
 ],
 "metadata": {
  "accelerator": "GPU",
  "colab": {
   "authorship_tag": "ABX9TyN3/HnqLT0Yg8UW7oc2IEZ4",
   "collapsed_sections": [],
   "mount_file_id": "1ZhMyHahJ5ULR1JE4GPuFYgSjqliJoFdS",
   "name": "gan_mnist_gpu_perf_test.ipynb",
   "provenance": [],
   "toc_visible": true
  },
  "kernelspec": {
   "display_name": "Python 3",
   "language": "python",
   "name": "python3"
  },
  "language_info": {
   "codemirror_mode": {
    "name": "ipython",
    "version": 3
   },
   "file_extension": ".py",
   "mimetype": "text/x-python",
   "name": "python",
   "nbconvert_exporter": "python",
   "pygments_lexer": "ipython3",
   "version": "3.7.7"
  }
 },
 "nbformat": 4,
 "nbformat_minor": 4
}
